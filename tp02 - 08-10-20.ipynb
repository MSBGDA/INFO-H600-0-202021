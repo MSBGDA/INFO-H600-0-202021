{
 "cells": [
  {
   "cell_type": "markdown",
   "metadata": {},
   "source": [
    "# 1)"
   ]
  },
  {
   "cell_type": "code",
   "execution_count": null,
   "metadata": {},
   "outputs": [],
   "source": [
    "´#function to simplify\n",
    "def f(a,b): \n",
    "    if a > 0: \n",
    "        if b > 1: \n",
    "            print(a) \n",
    "        else: \n",
    "            print(b) \n",
    "    else: \n",
    "        if b > 1: \n",
    "            print(a+b) \n",
    "        else: \n",
    "            print(b)\n"
   ]
  },
  {
   "cell_type": "code",
   "execution_count": 5,
   "metadata": {},
   "outputs": [],
   "source": [
    "def f2(a,b):\n",
    "    if not(b>1):\n",
    "        print(b)\n",
    "    else:\n",
    "        if a>0:\n",
    "            print(a)\n",
    "        else:\n",
    "            print(a+b)"
   ]
  },
  {
   "cell_type": "markdown",
   "metadata": {},
   "source": [
    "# 2)"
   ]
  },
  {
   "cell_type": "code",
   "execution_count": 16,
   "metadata": {},
   "outputs": [],
   "source": [
    "a = 2 \n",
    "b = 3 \n",
    "c = 4 \n",
    "test1 = True \n",
    "test2 = (b >= a) and (c >= b) # True and True = True\n",
    "test3 = test1 or test2        # True or True = True\n",
    "arret = test3 and (not test2) # True and not(True) = True and False = False"
   ]
  },
  {
   "cell_type": "code",
   "execution_count": 17,
   "metadata": {},
   "outputs": [
    {
     "name": "stdout",
     "output_type": "stream",
     "text": [
      "a= 3 b= 2 c= 2\n"
     ]
    }
   ],
   "source": [
    "a += 1 \n",
    "b -= 1 \n",
    "c -= 2 \n",
    "test1 = True \n",
    "test2 = (b >= a) and (c >= b) # False and True = False\n",
    "test3 = test1 or test2        # True or False = True\n",
    "arret = arret or test2        # False or False = False\n",
    "print('a=',a, 'b=',b, 'c=', c)"
   ]
  },
  {
   "cell_type": "markdown",
   "metadata": {},
   "source": [
    "# 3)"
   ]
  },
  {
   "cell_type": "code",
   "execution_count": 20,
   "metadata": {},
   "outputs": [
    {
     "name": "stdout",
     "output_type": "stream",
     "text": [
      "9\n",
      "8\n",
      "5\n"
     ]
    }
   ],
   "source": [
    "def my_test(a=8): \n",
    "    print(a)\n",
    "\n",
    "a = 5 \n",
    "my_test(9)\n",
    "my_test()\n",
    "print(a)"
   ]
  },
  {
   "cell_type": "markdown",
   "metadata": {},
   "source": [
    "# 4)"
   ]
  },
  {
   "cell_type": "code",
   "execution_count": 24,
   "metadata": {},
   "outputs": [
    {
     "data": {
      "text/plain": [
       "(True, False)"
      ]
     },
     "execution_count": 24,
     "metadata": {},
     "output_type": "execute_result"
    }
   ],
   "source": [
    "def valid_loto(a):\n",
    "    return a >= 1 and a <= 42\n",
    "\n",
    "valid_loto(5), valid_loto(50)"
   ]
  },
  {
   "cell_type": "markdown",
   "metadata": {},
   "source": [
    "# 5)"
   ]
  },
  {
   "cell_type": "code",
   "execution_count": 26,
   "metadata": {},
   "outputs": [
    {
     "data": {
      "text/plain": [
       "(0, 1)"
      ]
     },
     "execution_count": 26,
     "metadata": {},
     "output_type": "execute_result"
    }
   ],
   "source": [
    "16%4, 17%4"
   ]
  },
  {
   "cell_type": "code",
   "execution_count": 28,
   "metadata": {},
   "outputs": [],
   "source": [
    "def leap_year(year):\n",
    "    return year % 4 == 0 and not(year % 100 == 0) or year % 400 == 0"
   ]
  },
  {
   "cell_type": "code",
   "execution_count": 35,
   "metadata": {},
   "outputs": [
    {
     "data": {
      "text/plain": [
       "[2000, 2004, 2008, 2012, 2016, 2020, 2024, 2028, 2032, 2036, 2040]"
      ]
     },
     "execution_count": 35,
     "metadata": {},
     "output_type": "execute_result"
    }
   ],
   "source": [
    "list_of_leap_year = []\n",
    "year = 2000\n",
    "while year < 2041:\n",
    "    if leap_year(year) == True:\n",
    "        list_of_leap_year.append(year)\n",
    "    year += 1    \n",
    "list_of_leap_year       "
   ]
  },
  {
   "cell_type": "markdown",
   "metadata": {},
   "source": [
    "# 7)"
   ]
  },
  {
   "cell_type": "code",
   "execution_count": 36,
   "metadata": {},
   "outputs": [],
   "source": [
    "def my_range_while(a,b):\n",
    "    l = []\n",
    "    while a < b:\n",
    "        l.append(a)\n",
    "        a += 1\n",
    "    return(l)    "
   ]
  },
  {
   "cell_type": "code",
   "execution_count": 37,
   "metadata": {},
   "outputs": [
    {
     "data": {
      "text/plain": [
       "[3, 4, 5, 6, 7, 8, 9, 10, 11, 12]"
      ]
     },
     "execution_count": 37,
     "metadata": {},
     "output_type": "execute_result"
    }
   ],
   "source": [
    "my_range_while(3,13)"
   ]
  },
  {
   "cell_type": "code",
   "execution_count": 43,
   "metadata": {},
   "outputs": [],
   "source": [
    "def my_range_for(a,b):\n",
    "    l = []\n",
    "    for i in range(a,b):\n",
    "        l.append(i)\n",
    "    return(l)    "
   ]
  },
  {
   "cell_type": "code",
   "execution_count": 44,
   "metadata": {},
   "outputs": [
    {
     "data": {
      "text/plain": [
       "[3, 4, 5, 6, 7, 8, 9, 10, 11, 12]"
      ]
     },
     "execution_count": 44,
     "metadata": {},
     "output_type": "execute_result"
    }
   ],
   "source": [
    "my_range_for(3,13)"
   ]
  },
  {
   "cell_type": "markdown",
   "metadata": {},
   "source": [
    "# 8)"
   ]
  },
  {
   "cell_type": "code",
   "execution_count": 45,
   "metadata": {},
   "outputs": [],
   "source": [
    "def my_range_step_while(a,b,step):\n",
    "    l = []\n",
    "    while a < b:\n",
    "        l.append(a)\n",
    "        a += step\n",
    "    return(l)  "
   ]
  },
  {
   "cell_type": "code",
   "execution_count": 46,
   "metadata": {},
   "outputs": [
    {
     "data": {
      "text/plain": [
       "[3, 6, 9, 12, 15, 18]"
      ]
     },
     "execution_count": 46,
     "metadata": {},
     "output_type": "execute_result"
    }
   ],
   "source": [
    "my_range_step_while(3,19,3)"
   ]
  },
  {
   "cell_type": "code",
   "execution_count": 47,
   "metadata": {},
   "outputs": [],
   "source": [
    "def my_range_step_for(a,b,step):\n",
    "    l = []\n",
    "    for i in range(a,b,step):\n",
    "        l.append(i)\n",
    "    return(l)"
   ]
  },
  {
   "cell_type": "code",
   "execution_count": 48,
   "metadata": {},
   "outputs": [
    {
     "data": {
      "text/plain": [
       "[3, 6, 9, 12, 15, 18]"
      ]
     },
     "execution_count": 48,
     "metadata": {},
     "output_type": "execute_result"
    }
   ],
   "source": [
    "my_range_step_for(3,19,3)"
   ]
  },
  {
   "cell_type": "markdown",
   "metadata": {},
   "source": [
    "# 9)"
   ]
  },
  {
   "cell_type": "code",
   "execution_count": 49,
   "metadata": {},
   "outputs": [],
   "source": [
    "def power2(number):\n",
    "    l = []\n",
    "    for i in range(number):\n",
    "        l.append(number**2)\n",
    "    return(l)    "
   ]
  },
  {
   "cell_type": "code",
   "execution_count": 50,
   "metadata": {},
   "outputs": [
    {
     "data": {
      "text/plain": [
       "[36, 36, 36, 36, 36, 36]"
      ]
     },
     "execution_count": 50,
     "metadata": {},
     "output_type": "execute_result"
    }
   ],
   "source": [
    "power2(6)"
   ]
  },
  {
   "cell_type": "markdown",
   "metadata": {},
   "source": [
    "# 10)"
   ]
  },
  {
   "cell_type": "code",
   "execution_count": 51,
   "metadata": {},
   "outputs": [],
   "source": [
    "def is_prime(number):\n",
    "    if number < 2:\n",
    "        return False\n",
    "    for i in range(2, number):\n",
    "        if number % i == 0:\n",
    "            return False       #iteration break with this condition\n",
    "    return True    "
   ]
  },
  {
   "cell_type": "code",
   "execution_count": 55,
   "metadata": {},
   "outputs": [
    {
     "data": {
      "text/plain": [
       "(False, True)"
      ]
     },
     "execution_count": 55,
     "metadata": {},
     "output_type": "execute_result"
    }
   ],
   "source": [
    "is_prime(6),is_prime(7)"
   ]
  },
  {
   "cell_type": "code",
   "execution_count": 56,
   "metadata": {},
   "outputs": [],
   "source": [
    "def list_prime(upper_num):\n",
    "    l = []\n",
    "    for i in range(upper_num):\n",
    "        if is_prime(i) == True:\n",
    "            l.append(i)\n",
    "    return(l)        "
   ]
  },
  {
   "cell_type": "code",
   "execution_count": 57,
   "metadata": {},
   "outputs": [
    {
     "data": {
      "text/plain": [
       "[2, 3, 5, 7, 11, 13]"
      ]
     },
     "execution_count": 57,
     "metadata": {},
     "output_type": "execute_result"
    }
   ],
   "source": [
    "list_prime(17)"
   ]
  },
  {
   "cell_type": "markdown",
   "metadata": {},
   "source": [
    "# 11)"
   ]
  },
  {
   "cell_type": "code",
   "execution_count": 60,
   "metadata": {},
   "outputs": [],
   "source": [
    "def increasing(a,b,c):\n",
    "    l = [a,b,c]\n",
    "    m = []\n",
    "    while len(l) != 0:\n",
    "        m.append(min(l))\n",
    "        del l[l.index(min(l))]\n",
    "    return(m)    "
   ]
  },
  {
   "cell_type": "code",
   "execution_count": 61,
   "metadata": {},
   "outputs": [
    {
     "data": {
      "text/plain": [
       "[9, 56, 102]"
      ]
     },
     "execution_count": 61,
     "metadata": {},
     "output_type": "execute_result"
    }
   ],
   "source": [
    "increasing(56,9,102)"
   ]
  },
  {
   "cell_type": "markdown",
   "metadata": {},
   "source": [
    "# 12)"
   ]
  },
  {
   "cell_type": "code",
   "execution_count": 76,
   "metadata": {},
   "outputs": [],
   "source": [
    "def two_highest_number(a,b,c):\n",
    "    l = [a,b,c]\n",
    "    m = []\n",
    "    while len(m) < 2:\n",
    "        m.append(max(l))\n",
    "        del l[l.index(max(l))]\n",
    "    return(m)    "
   ]
  },
  {
   "cell_type": "code",
   "execution_count": 77,
   "metadata": {},
   "outputs": [
    {
     "data": {
      "text/plain": [
       "[102, 56]"
      ]
     },
     "execution_count": 77,
     "metadata": {},
     "output_type": "execute_result"
    }
   ],
   "source": [
    "two_highest_number(56,9,102)"
   ]
  },
  {
   "cell_type": "markdown",
   "metadata": {},
   "source": [
    "# 13)"
   ]
  },
  {
   "cell_type": "code",
   "execution_count": 89,
   "metadata": {},
   "outputs": [],
   "source": [
    "import math as m\n",
    "def second_degree_sol(a,b,c):\n",
    "    delta = b**2 - 4*c*a\n",
    "    if delta > 0:\n",
    "        x1 = (-b - m.sqrt(delta)) / (2*a)\n",
    "        x2 = (-b + m.sqrt(delta)) / (2*a)\n",
    "        print('x_1 =',x1, 'AND x_2 =',x2)\n",
    "    elif delta == 0:\n",
    "        x = -b/(2*a)\n",
    "        print('x=',x)\n",
    "    else:\n",
    "        print('No real solution dude')"
   ]
  },
  {
   "cell_type": "code",
   "execution_count": 90,
   "metadata": {},
   "outputs": [
    {
     "name": "stdout",
     "output_type": "stream",
     "text": [
      "No real solution dude\n"
     ]
    }
   ],
   "source": [
    "second_degree_sol(4,-5,7)"
   ]
  },
  {
   "cell_type": "code",
   "execution_count": 91,
   "metadata": {},
   "outputs": [
    {
     "name": "stdout",
     "output_type": "stream",
     "text": [
      "x_1 = -2.0 AND x_2 = 2.0\n"
     ]
    }
   ],
   "source": [
    "second_degree_sol(1,0,-4)"
   ]
  },
  {
   "cell_type": "code",
   "execution_count": 93,
   "metadata": {},
   "outputs": [
    {
     "name": "stdout",
     "output_type": "stream",
     "text": [
      "x= -1.0\n"
     ]
    }
   ],
   "source": [
    "second_degree_sol(1,2,1)"
   ]
  },
  {
   "cell_type": "markdown",
   "metadata": {},
   "source": [
    "# 14)"
   ]
  },
  {
   "cell_type": "code",
   "execution_count": 110,
   "metadata": {},
   "outputs": [],
   "source": [
    "def next_instant(h,m,s):\n",
    "    instant = [h,m,s]\n",
    "    instant[2] += 1\n",
    "    if instant[2] == 60:\n",
    "        instant[2] = 0\n",
    "        instant[1] += 1\n",
    "    if instant[1] == 60:\n",
    "        instant[1] = 0\n",
    "        instant[0] += 1\n",
    "    if instant[0] == 24:\n",
    "        instant[0] = 0\n",
    "    return(instant)"
   ]
  },
  {
   "cell_type": "code",
   "execution_count": 111,
   "metadata": {},
   "outputs": [
    {
     "data": {
      "text/plain": [
       "[5, 32, 23]"
      ]
     },
     "execution_count": 111,
     "metadata": {},
     "output_type": "execute_result"
    }
   ],
   "source": [
    "next_instant(5,32,22)"
   ]
  },
  {
   "cell_type": "code",
   "execution_count": 112,
   "metadata": {},
   "outputs": [
    {
     "data": {
      "text/plain": [
       "[0, 0, 0]"
      ]
     },
     "execution_count": 112,
     "metadata": {},
     "output_type": "execute_result"
    }
   ],
   "source": [
    "next_instant(23,59,59)"
   ]
  },
  {
   "cell_type": "markdown",
   "metadata": {},
   "source": [
    "# 16)"
   ]
  },
  {
   "cell_type": "code",
   "execution_count": 140,
   "metadata": {},
   "outputs": [],
   "source": [
    "def triangle_list(number):\n",
    "    l = []\n",
    "    m = []\n",
    "    for i in range(1,number + 1):\n",
    "        for j in range(1,i + 1):\n",
    "            l.append(j)        \n",
    "        m.append(l)\n",
    "        l = []\n",
    "    return(m)    "
   ]
  },
  {
   "cell_type": "code",
   "execution_count": 141,
   "metadata": {},
   "outputs": [
    {
     "data": {
      "text/plain": [
       "[[1], [1, 2], [1, 2, 3], [1, 2, 3, 4]]"
      ]
     },
     "execution_count": 141,
     "metadata": {},
     "output_type": "execute_result"
    }
   ],
   "source": [
    "triangle_list(4)"
   ]
  },
  {
   "cell_type": "code",
   "execution_count": null,
   "metadata": {},
   "outputs": [],
   "source": []
  }
 ],
 "metadata": {
  "kernelspec": {
   "display_name": "Python 3",
   "language": "python",
   "name": "python3"
  },
  "language_info": {
   "codemirror_mode": {
    "name": "ipython",
    "version": 3
   },
   "file_extension": ".py",
   "mimetype": "text/x-python",
   "name": "python",
   "nbconvert_exporter": "python",
   "pygments_lexer": "ipython3",
   "version": "3.7.6"
  }
 },
 "nbformat": 4,
 "nbformat_minor": 4
}
