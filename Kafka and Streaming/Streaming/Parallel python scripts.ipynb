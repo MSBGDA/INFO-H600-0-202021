{
 "cells": [
  {
   "cell_type": "code",
   "execution_count": 4,
   "metadata": {},
   "outputs": [
    {
     "name": "stdout",
     "output_type": "stream",
     "text": [
      "Copying ordersaa.ordtmp -> stream-IN/ordersaa.ordtmp\n",
      "Copying ordersab.ordtmp -> stream-IN/ordersab.ordtmp\n",
      "Copying ordersac.ordtmp -> stream-IN/ordersac.ordtmp\n",
      "Copying ordersad.ordtmp -> stream-IN/ordersad.ordtmp\n",
      "Copying ordersae.ordtmp -> stream-IN/ordersae.ordtmp\n",
      "Copying ordersaf.ordtmp -> stream-IN/ordersaf.ordtmp\n",
      "Copying ordersag.ordtmp -> stream-IN/ordersag.ordtmp\n",
      "Copying ordersah.ordtmp -> stream-IN/ordersah.ordtmp\n",
      "Copying ordersai.ordtmp -> stream-IN/ordersai.ordtmp\n",
      "Copying ordersaj.ordtmp -> stream-IN/ordersaj.ordtmp\n",
      "Copying ordersak.ordtmp -> stream-IN/ordersak.ordtmp\n",
      "Copying ordersal.ordtmp -> stream-IN/ordersal.ordtmp\n",
      "Copying ordersam.ordtmp -> stream-IN/ordersam.ordtmp\n",
      "Copying ordersan.ordtmp -> stream-IN/ordersan.ordtmp\n",
      "Copying ordersao.ordtmp -> stream-IN/ordersao.ordtmp\n",
      "Copying ordersap.ordtmp -> stream-IN/ordersap.ordtmp\n",
      "Copying ordersaq.ordtmp -> stream-IN/ordersaq.ordtmp\n",
      "Copying ordersar.ordtmp -> stream-IN/ordersar.ordtmp\n",
      "Copying ordersas.ordtmp -> stream-IN/ordersas.ordtmp\n",
      "Copying ordersat.ordtmp -> stream-IN/ordersat.ordtmp\n",
      "Copying ordersau.ordtmp -> stream-IN/ordersau.ordtmp\n",
      "Copying ordersav.ordtmp -> stream-IN/ordersav.ordtmp\n",
      "Copying ordersaw.ordtmp -> stream-IN/ordersaw.ordtmp\n",
      "Copying ordersax.ordtmp -> stream-IN/ordersax.ordtmp\n",
      "Copying ordersay.ordtmp -> stream-IN/ordersay.ordtmp\n",
      "Copying ordersaz.ordtmp -> stream-IN/ordersaz.ordtmp\n",
      "Copying ordersba.ordtmp -> stream-IN/ordersba.ordtmp\n",
      "Copying ordersbb.ordtmp -> stream-IN/ordersbb.ordtmp\n",
      "Copying ordersbc.ordtmp -> stream-IN/ordersbc.ordtmp\n",
      "Copying ordersbd.ordtmp -> stream-IN/ordersbd.ordtmp\n",
      "Copying ordersbe.ordtmp -> stream-IN/ordersbe.ordtmp\n",
      "Copying ordersbf.ordtmp -> stream-IN/ordersbf.ordtmp\n",
      "^C\n",
      "Terminating ...\n"
     ]
    }
   ],
   "source": [
    "!python scripts/simulateStreamingInput.py"
   ]
  },
  {
   "cell_type": "code",
   "execution_count": 6,
   "metadata": {},
   "outputs": [
    {
     "name": "stdout",
     "output_type": "stream",
     "text": [
      "Reading data from /home/bigdata/Desktop/exercises_tests/3 - Kafka and Streaming/Spark Streaming/scripts/../data/orders.txt\n",
      "Sending orders data to Kafka topic bigdata.orders\n",
      "^C\n",
      "Terminating ...\n"
     ]
    }
   ],
   "source": [
    "!python scripts/streamOrdersToKafka.py"
   ]
  }
 ],
 "metadata": {
  "kernelspec": {
   "display_name": "Python 3",
   "language": "python",
   "name": "python3"
  },
  "language_info": {
   "codemirror_mode": {
    "name": "ipython",
    "version": 3
   },
   "file_extension": ".py",
   "mimetype": "text/x-python",
   "name": "python",
   "nbconvert_exporter": "python",
   "pygments_lexer": "ipython3",
   "version": "3.7.4"
  }
 },
 "nbformat": 4,
 "nbformat_minor": 2
}
