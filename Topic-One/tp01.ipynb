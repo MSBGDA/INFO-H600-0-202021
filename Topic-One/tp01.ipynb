{
 "cells": [
  {
   "cell_type": "markdown",
   "metadata": {},
   "source": [
    "# INFO-H-600-Computing foundations of data scienes\n",
    "## TP1-Introduction to python: Values, Variables, types, expressions, ....."
   ]
  },
  {
   "cell_type": "markdown",
   "metadata": {},
   "source": [
    "### Author: Kubam Ivo\n",
    "### Date: 10/1/2020"
   ]
  },
  {
   "cell_type": "markdown",
   "metadata": {},
   "source": [
    "#### Ex.1 Enter the following expressions in the interpreter and look at the result:"
   ]
  },
  {
   "cell_type": "code",
   "execution_count": 5,
   "metadata": {},
   "outputs": [
    {
     "data": {
      "text/plain": [
       "(5, 6)"
      ]
     },
     "execution_count": 5,
     "metadata": {},
     "output_type": "execute_result"
    }
   ],
   "source": [
    "5, 5+1"
   ]
  },
  {
   "cell_type": "code",
   "execution_count": 7,
   "metadata": {},
   "outputs": [],
   "source": [
    "x = 5"
   ]
  },
  {
   "cell_type": "code",
   "execution_count": 8,
   "metadata": {},
   "outputs": [
    {
     "data": {
      "text/plain": [
       "6"
      ]
     },
     "execution_count": 8,
     "metadata": {},
     "output_type": "execute_result"
    }
   ],
   "source": [
    "x+1"
   ]
  },
  {
   "cell_type": "code",
   "execution_count": 11,
   "metadata": {},
   "outputs": [],
   "source": [
    "x = x + 1"
   ]
  },
  {
   "cell_type": "code",
   "execution_count": 12,
   "metadata": {},
   "outputs": [
    {
     "data": {
      "text/plain": [
       "7"
      ]
     },
     "execution_count": 12,
     "metadata": {},
     "output_type": "execute_result"
    }
   ],
   "source": [
    "x"
   ]
  },
  {
   "cell_type": "markdown",
   "metadata": {},
   "source": [
    "#### Ex.2 Use the interpreter to print the following texts:"
   ]
  },
  {
   "cell_type": "code",
   "execution_count": 16,
   "metadata": {},
   "outputs": [
    {
     "name": "stdout",
     "output_type": "stream",
     "text": [
      "Hello World\n"
     ]
    }
   ],
   "source": [
    "# Ex. 2\n",
    "print('Hello World')"
   ]
  },
  {
   "cell_type": "code",
   "execution_count": 22,
   "metadata": {},
   "outputs": [
    {
     "name": "stdout",
     "output_type": "stream",
     "text": [
      "Aujourd'hui\n"
     ]
    }
   ],
   "source": [
    "print(\"Aujourd'hui\")"
   ]
  },
  {
   "cell_type": "code",
   "execution_count": 25,
   "metadata": {},
   "outputs": [
    {
     "name": "stdout",
     "output_type": "stream",
     "text": [
      "C'est \"Dommage !\n"
     ]
    }
   ],
   "source": [
    "print('''C'est \"Dommage !''')"
   ]
  },
  {
   "cell_type": "code",
   "execution_count": 26,
   "metadata": {},
   "outputs": [
    {
     "name": "stdout",
     "output_type": "stream",
     "text": [
      "Hum \\o/\n"
     ]
    }
   ],
   "source": [
    "print('Hum \\o/')"
   ]
  },
  {
   "cell_type": "markdown",
   "metadata": {},
   "source": [
    "#### Ex.3. Evaluate (by hand) the following expressions and try to guess the type of result expected (in mathematics and in Python). Then try to execute them with the interpreter to check your answers:"
   ]
  },
  {
   "cell_type": "code",
   "execution_count": 27,
   "metadata": {},
   "outputs": [
    {
     "data": {
      "text/plain": [
       "0"
      ]
     },
     "execution_count": 27,
     "metadata": {},
     "output_type": "execute_result"
    }
   ],
   "source": [
    "14-14"
   ]
  },
  {
   "cell_type": "code",
   "execution_count": 28,
   "metadata": {},
   "outputs": [
    {
     "data": {
      "text/plain": [
       "7.9"
      ]
     },
     "execution_count": 28,
     "metadata": {},
     "output_type": "execute_result"
    }
   ],
   "source": [
    "1 + 6.9"
   ]
  },
  {
   "cell_type": "code",
   "execution_count": 29,
   "metadata": {},
   "outputs": [
    {
     "data": {
      "text/plain": [
       "3.0"
      ]
     },
     "execution_count": 29,
     "metadata": {},
     "output_type": "execute_result"
    }
   ],
   "source": [
    "1.0 + 2.0"
   ]
  },
  {
   "cell_type": "code",
   "execution_count": 30,
   "metadata": {},
   "outputs": [
    {
     "data": {
      "text/plain": [
       "2.25"
      ]
     },
     "execution_count": 30,
     "metadata": {},
     "output_type": "execute_result"
    }
   ],
   "source": [
    "18/(7 + 1)"
   ]
  },
  {
   "cell_type": "code",
   "execution_count": 35,
   "metadata": {},
   "outputs": [
    {
     "data": {
      "text/plain": [
       "1.5625"
      ]
     },
     "execution_count": 35,
     "metadata": {},
     "output_type": "execute_result"
    }
   ],
   "source": [
    "((3+2)*2.5)/(4*2)"
   ]
  },
  {
   "cell_type": "code",
   "execution_count": 37,
   "metadata": {},
   "outputs": [
    {
     "data": {
      "text/plain": [
       "0.5773502691896257"
      ]
     },
     "execution_count": 37,
     "metadata": {},
     "output_type": "execute_result"
    }
   ],
   "source": [
    "3**(-1/2)"
   ]
  },
  {
   "cell_type": "code",
   "execution_count": 38,
   "metadata": {},
   "outputs": [
    {
     "data": {
      "text/plain": [
       "0.0"
      ]
     },
     "execution_count": 38,
     "metadata": {},
     "output_type": "execute_result"
    }
   ],
   "source": [
    "0*0.0"
   ]
  },
  {
   "cell_type": "markdown",
   "metadata": {},
   "source": [
    "#### Ex.4. Some of the following lines contain errors. These can be syntax errors or semantic errors. For each of them, briefly explain the kind of error expected. Check your answers with the interpreter."
   ]
  },
  {
   "cell_type": "code",
   "execution_count": 41,
   "metadata": {},
   "outputs": [
    {
     "name": "stdout",
     "output_type": "stream",
     "text": [
      "'Bonjour'\n"
     ]
    }
   ],
   "source": [
    "# print(''Bonjour')  ' should be enclosed by \"\n",
    "print(\"'Bonjour'\")"
   ]
  },
  {
   "cell_type": "code",
   "execution_count": 44,
   "metadata": {},
   "outputs": [
    {
     "data": {
      "text/plain": [
       "'blablabla'"
      ]
     },
     "execution_count": 44,
     "metadata": {},
     "output_type": "execute_result"
    }
   ],
   "source": [
    "# 'bla' * 3.0 string can't be multiplied with float\n",
    "'bla' * 3"
   ]
  },
  {
   "cell_type": "code",
   "execution_count": 45,
   "metadata": {},
   "outputs": [
    {
     "data": {
      "text/plain": [
       "0.4166666666666667"
      ]
     },
     "execution_count": 45,
     "metadata": {},
     "output_type": "execute_result"
    }
   ],
   "source": [
    "# ((1 + 4)/(6 * 2) number of opening brackets should match closing brackets\n",
    "\n",
    "((1 + 4)/(6 * 2) )"
   ]
  },
  {
   "cell_type": "code",
   "execution_count": 48,
   "metadata": {},
   "outputs": [
    {
     "data": {
      "text/plain": [
       "14"
      ]
     },
     "execution_count": 48,
     "metadata": {},
     "output_type": "execute_result"
    }
   ],
   "source": [
    "# int(''14'') # Can't convert a string with literals into integer\n",
    "int('14')"
   ]
  },
  {
   "cell_type": "code",
   "execution_count": 52,
   "metadata": {},
   "outputs": [
    {
     "data": {
      "text/plain": [
       "7"
      ]
     },
     "execution_count": 52,
     "metadata": {},
     "output_type": "execute_result"
    }
   ],
   "source": [
    "# int('3 + 4i') can't do calculation on expressions with strings mixed with integers\n",
    "int(3 + 4)"
   ]
  },
  {
   "cell_type": "code",
   "execution_count": 53,
   "metadata": {},
   "outputs": [
    {
     "data": {
      "text/plain": [
       "'3 * 3 = 3 * 3 = 3 * 3 = 3 * 3 = 3 * 3 = 3 * 3 = 3 * 3 = 3 * 3 = 3 * 3 = '"
      ]
     },
     "execution_count": 53,
     "metadata": {},
     "output_type": "execute_result"
    }
   ],
   "source": [
    "'3 * 3 = ' * 3 ** 2"
   ]
  },
  {
   "cell_type": "code",
   "execution_count": 55,
   "metadata": {},
   "outputs": [
    {
     "data": {
      "text/plain": [
       "2.5"
      ]
     },
     "execution_count": 55,
     "metadata": {},
     "output_type": "execute_result"
    }
   ],
   "source": [
    "# 3 + 2 / 0 + 2 BODMAS. Tries to do 2/0 which lead to an error\n",
    "(3 + 2)/(0 + 2)"
   ]
  },
  {
   "cell_type": "code",
   "execution_count": 56,
   "metadata": {},
   "outputs": [
    {
     "name": "stdout",
     "output_type": "stream",
     "text": [
      "Il y a' + 31 + 'jours en janvier'\n"
     ]
    }
   ],
   "source": [
    "# print('Il y a' + 31 + 'jours en janvier') single codes in sentences should be encapsulated by double codes\n",
    "print(\"Il y a' + 31 + 'jours en janvier'\")"
   ]
  },
  {
   "cell_type": "markdown",
   "metadata": {},
   "source": [
    "#### Ex.5. Suppose two variables : a, b. How could you proceed to swap the values of these two variables. For instance, if a and b have the values a = 1, b = 2, how could you obtain 2 1 on the screen by typing print(a, b) ? "
   ]
  },
  {
   "cell_type": "code",
   "execution_count": 61,
   "metadata": {},
   "outputs": [
    {
     "name": "stdout",
     "output_type": "stream",
     "text": [
      "2 1\n"
     ]
    }
   ],
   "source": [
    "a = 1; b = 2\n",
    "c = a ; a = b; b = c\n",
    "print(a, b)"
   ]
  },
  {
   "cell_type": "markdown",
   "metadata": {},
   "source": [
    "#### Ex.6 Resolve the following problem using the interpreter: the volume of a sphere of radius r is given by 4 3πr3. What is the volume of a sphere of radius 5 ? (Note that 392.6 is not the correct answer!)"
   ]
  },
  {
   "cell_type": "code",
   "execution_count": 63,
   "metadata": {},
   "outputs": [
    {
     "data": {
      "text/plain": [
       "523.3333333333334"
      ]
     },
     "execution_count": 63,
     "metadata": {},
     "output_type": "execute_result"
    }
   ],
   "source": [
    "r = 5 \n",
    "pi = 3.14\n",
    "(4/3)*pi*r**3"
   ]
  },
  {
   "cell_type": "markdown",
   "metadata": {},
   "source": [
    "#### Ex.7 Solve the following problems using the interpreter:"
   ]
  },
  {
   "cell_type": "markdown",
   "metadata": {},
   "source": [
    "##### 7.1 The price of a book is of $\\$24.95$ but you have a discount of 40 \\%. The shipping costs for the first book is of $3 and of 75 cents for each additional book. What is the total cost for 60 books ?\n"
   ]
  },
  {
   "cell_type": "code",
   "execution_count": 91,
   "metadata": {},
   "outputs": [
    {
     "name": "stdout",
     "output_type": "stream",
     "text": [
      "Total cost will be $ 5026.8\n"
     ]
    }
   ],
   "source": [
    "book_price = 24.95; discount = 0.4; first_ship_cost = 3; extra_ship_cost = 75; qty = 60\n",
    "total_cost = book_price * discount * qty\n",
    "total_cost = total_cost + first_ship_cost\n",
    "total_cost = total_cost + (qty-1)*extra_ship_cost\n",
    "print('Total cost will be $',total_cost)\n",
    "# N.B Defining a function is the most appropriate way but see function later"
   ]
  },
  {
   "cell_type": "markdown",
   "metadata": {},
   "source": [
    "##### 7.2 You travel 10 km in 43 min and 30s. What is your average time per mile ? What is your average speed in miles per hour ? (1.61km = 1 mile)"
   ]
  },
  {
   "cell_type": "code",
   "execution_count": 88,
   "metadata": {},
   "outputs": [
    {
     "name": "stdout",
     "output_type": "stream",
     "text": [
      "Average time in minutes per mile is  0.725\n",
      "Average speed in miles per hour is  8.567144998929106\n"
     ]
    }
   ],
   "source": [
    "distance_km = 10; time_min = 43.5\n",
    "distance_mile = distance_km/1.61\n",
    "avg_time_per_mile = time_min / distance_mile\n",
    "time_hour = 43.5/60\n",
    "print('Average time in minutes per mile is ', time_hour)\n",
    "avg_speed_per_mile = distance_mile/time_hour\n",
    "print('Average speed in miles per hour is ', avg_speed_per_mile)"
   ]
  },
  {
   "cell_type": "markdown",
   "metadata": {},
   "source": [
    "##### 7.3 Suppose that the average walking speed is of 8 minutes and 15 seconds per kilometer. An higher speed is of 7 minutes and 12 seconds per kilometer. You start at 6h52 and walk one kilometer at average walking speed, followed by 3 kilometers at an higher speed, and then another kilometer at average speed. At what time will you arrive ?"
   ]
  },
  {
   "cell_type": "code",
   "execution_count": 4,
   "metadata": {},
   "outputs": [
    {
     "name": "stdout",
     "output_type": "stream",
     "text": [
      "The arriveal time will be after:  1 day(s)  at  12 h 43 min\n"
     ]
    }
   ],
   "source": [
    "avg_speed_km = 8.25; high_speed_km = 7.2; start_time = 6.87\n",
    "time_arrive = start_time + (1 * avg_speed_km)\n",
    "time_arrive = time_arrive + (3 * high_speed_km)\n",
    "day_arrive = int(time_arrive // 24)\n",
    "time_arrive = time_arrive % 24 \n",
    "time_arrive_min = int(time_arrive * 60)\n",
    "hour_arrive = int(time_arrive_min // 60)\n",
    "min_arrive = int(time_arrive_min % 60)\n",
    "print('The arriveal time will be after: ', day_arrive , 'day(s)' ,' at ', hour_arrive , 'h' , min_arrive , 'min')\n",
    "\n",
    "#print('Arrival time will be after ',int((time_arrive*60)//60),'h',int((time_arrive*60)%60) )"
   ]
  },
  {
   "cell_type": "code",
   "execution_count": 1,
   "metadata": {},
   "outputs": [
    {
     "name": "stdout",
     "output_type": "stream",
     "text": [
      "hello world\n"
     ]
    }
   ],
   "source": [
    "print(\"hello world\")"
   ]
  },
  {
   "cell_type": "code",
   "execution_count": null,
   "metadata": {},
   "outputs": [],
   "source": []
  }
 ],
 "metadata": {
  "kernelspec": {
   "display_name": "Python 3",
   "language": "python",
   "name": "python3"
  },
  "language_info": {
   "codemirror_mode": {
    "name": "ipython",
    "version": 3
   },
   "file_extension": ".py",
   "mimetype": "text/x-python",
   "name": "python",
   "nbconvert_exporter": "python",
   "pygments_lexer": "ipython3",
   "version": "3.8.3"
  }
 },
 "nbformat": 4,
 "nbformat_minor": 4
}
