{
 "cells": [
  {
   "cell_type": "markdown",
   "metadata": {},
   "source": [
    "# INFO-H-600-Computing foundations of data scienes\n",
    "#### Author: Kubam Ivo\n",
    "#### Date: 3/10/2020"
   ]
  },
  {
   "cell_type": "markdown",
   "metadata": {},
   "source": [
    "#### Ex. 1. Write a function that finds the minimum in a list of numbers."
   ]
  },
  {
   "cell_type": "code",
   "execution_count": 20,
   "metadata": {},
   "outputs": [
    {
     "name": "stdout",
     "output_type": "stream",
     "text": [
      "2\n"
     ]
    }
   ],
   "source": [
    "def min_list(ls):\n",
    "    '''Returns the minimum number from a list'''\n",
    "    order = []\n",
    "    len_ls = len(ls)\n",
    "    for elem in ls:\n",
    "        a = 0\n",
    "        for i in range(0,len_ls):\n",
    "            if elem < ls[i]:\n",
    "                a += 1\n",
    "        pos = len_ls - a -1\n",
    "        order.insert(pos,elem)\n",
    "    return order[0]\n",
    "\n",
    "print(min_list([3, 12, 3, 2, 10])) \n",
    "         \n",
    "        "
   ]
  },
  {
   "cell_type": "markdown",
   "metadata": {},
   "source": [
    "#### Write a function that finds the name of the oldest person in a list of tuples"
   ]
  },
  {
   "cell_type": "code",
   "execution_count": 29,
   "metadata": {},
   "outputs": [
    {
     "name": "stdout",
     "output_type": "stream",
     "text": [
      "Jean\n"
     ]
    }
   ],
   "source": [
    "def max_list(ls):\n",
    "    '''Returns the maximum number from a list'''\n",
    "    order = []\n",
    "    len_ls = len(ls)\n",
    "    for elem in ls:\n",
    "        a = 0\n",
    "        for i in range(0,len_ls):\n",
    "            if elem < ls[i]:\n",
    "                a += 1\n",
    "        pos = len_ls - a -1\n",
    "        order.insert(pos,elem)\n",
    "    return order[len_ls -1]\n",
    "\n",
    "def elder(ls):\n",
    "    '''Returns the name of the oldest person in a list'''\n",
    "    ls_age = []\n",
    "    ls_name = []\n",
    "    for elem in ls:\n",
    "        name, age = elem\n",
    "        ls_age.append(age)\n",
    "        ls_name.append(name)\n",
    "    max_age = max_list(ls_age) # calls the max_list function to return the max age\n",
    "    index = ls_age.index(max_age)\n",
    "    return ls_name[index]\n",
    "\n",
    "print(elder([('Jean', 34), ('Laurent', 27), ('Michel', 33)]))    \n",
    "   "
   ]
  },
  {
   "cell_type": "markdown",
   "metadata": {},
   "source": [
    "#### Ex.3. Write a function that prints a list [1,2,3] in the following way : [1 -> 2 -> 3]"
   ]
  },
  {
   "cell_type": "code",
   "execution_count": 7,
   "metadata": {},
   "outputs": [
    {
     "data": {
      "text/plain": [
       "['11 -> -2 -> 35 -> -46 -> 7 -> ']"
      ]
     },
     "execution_count": 7,
     "metadata": {},
     "output_type": "execute_result"
    }
   ],
   "source": [
    "def myprint(ls):\n",
    "    new_list = []\n",
    "    item = ''\n",
    "    for elem in ls:\n",
    "        item += str(elem) + ' -> '\n",
    "    new_list.append(item)\n",
    "    return new_list\n",
    "myprint([11, -2, 35, -46, 7])"
   ]
  },
  {
   "cell_type": "markdown",
   "metadata": {},
   "source": [
    "#### Ex. 4. Write a function that replace the elements of a list by their absolute value"
   ]
  },
  {
   "cell_type": "code",
   "execution_count": 15,
   "metadata": {},
   "outputs": [
    {
     "name": "stdout",
     "output_type": "stream",
     "text": [
      "[3, 4, 5, 6, 4]\n"
     ]
    }
   ],
   "source": [
    "def replace_abs(ls):\n",
    "  '''Outputs the absolute values for all values in a list'''  \n",
    "    for i in range(len(ls)):\n",
    "        if ls[i] < 0:\n",
    "           ls[i] = ls[i] * -1\n",
    "    return ls\n",
    "li1 = [3, 4, -5, -6, -4]\n",
    "replace_abs(li1)\n",
    "print(li1)"
   ]
  },
  {
   "cell_type": "markdown",
   "metadata": {},
   "source": [
    "#### Ex. 5. Write a function that swaps elements of a list according to their indices"
   ]
  },
  {
   "cell_type": "code",
   "execution_count": 37,
   "metadata": {},
   "outputs": [
    {
     "name": "stdout",
     "output_type": "stream",
     "text": [
      "[-4, -4, -4, -4, -5, 3, 6, -4]\n"
     ]
    }
   ],
   "source": [
    "def swap(lil, a:int, b:int):\n",
    "    '''Interchanging the position of two elements of a list'''\n",
    "    c = lil[a]\n",
    "    lil[a] = lil[b]\n",
    "    lil[b] = c\n",
    "        \n",
    "    return lil\n",
    "\n",
    "li1 = [3, -4, -5, 6, -4]\n",
    "swap(li1, 0, 3)\n",
    "print(li1)"
   ]
  },
  {
   "cell_type": "markdown",
   "metadata": {},
   "source": [
    "#### Ex. 6. Write a function that receives a string composed of alphabetic characters and returns a string composed of the same letters but with the opposite case"
   ]
  },
  {
   "cell_type": "code",
   "execution_count": 46,
   "metadata": {},
   "outputs": [
    {
     "name": "stdout",
     "output_type": "stream",
     "text": [
      "hELLOwORLD\n"
     ]
    }
   ],
   "source": [
    "def case_swap(a):\n",
    "    u_case =['A', 'B', 'C', 'D', 'E', 'F', 'G', 'H', 'I', 'J', 'K', 'L', 'M', 'N', 'O', 'P', 'Q', 'R', 'S', 'T', 'U', 'V', 'W', 'X', 'Y', 'Z']\n",
    "    l_case = ['a', 'b', 'c', 'd', 'e', 'f', 'g', 'h', 'i', 'j', 'k', 'l', 'm', 'n', 'o', 'p', 'q', 'r', 's', 't', 'u', 'v', 'w', 'x', 'y', 'z']\n",
    "    b = ''\n",
    "    for let in a:\n",
    "        if let in u_case:\n",
    "            let_index = u_case.index(let)\n",
    "            b += l_case[let_index]\n",
    "        elif let in l_case:\n",
    "            let_index = l_case.index(let)\n",
    "            b +=  u_case[let_index]\n",
    "    a = b\n",
    "    return a\n",
    "a = 'HelloWorld'\n",
    "print(case_swap(a))"
   ]
  },
  {
   "cell_type": "markdown",
   "metadata": {},
   "source": [
    "#### Ex. 7. Write a function that shuffles the elements of a list in the following manner: for each element, swap it with itself or with a following element chosen at random. Reminder: the functionrandint(a,b) from the random library returns an integer choosen at random in [a; b]."
   ]
  },
  {
   "cell_type": "code",
   "execution_count": null,
   "metadata": {},
   "outputs": [],
   "source": []
  },
  {
   "cell_type": "markdown",
   "metadata": {},
   "source": [
    "#### Ex. 8. Write a function that returns the longest list from a list of lists. "
   ]
  },
  {
   "cell_type": "code",
   "execution_count": 48,
   "metadata": {},
   "outputs": [
    {
     "name": "stdout",
     "output_type": "stream",
     "text": [
      "[7, -8, 12, -44, 5]\n"
     ]
    }
   ],
   "source": [
    "def longest_list(ls):\n",
    "    longest = 0\n",
    "    for elem in ls:\n",
    "        if len(elem) > longest:\n",
    "            longest = len(elem)\n",
    "            longest_ls = elem[:]\n",
    "    return longest_ls\n",
    "print(longest_list([[4, -45, 1, 3], [1, 4], [7, -8, 12, -44, 5]]))            "
   ]
  },
  {
   "cell_type": "markdown",
   "metadata": {},
   "source": [
    "#### Ex. 9. Write a function that returns the longest increasing streak in a list."
   ]
  },
  {
   "cell_type": "code",
   "execution_count": 51,
   "metadata": {},
   "outputs": [
    {
     "name": "stdout",
     "output_type": "stream",
     "text": [
      "[[], [], []]\n"
     ]
    }
   ],
   "source": [
    "# Not working yet\n",
    "def longest_streak(ls):\n",
    "    len_ls = len(ls)\n",
    "    new_ls = []\n",
    "    long_ls = []\n",
    "    for i in range(len_ls):\n",
    "        if i < len_ls-1:\n",
    "            if ls[i] < ls[ i + 1]:\n",
    "                new_ls.append\n",
    "            else: \n",
    "                long_ls.append(new_ls)\n",
    "                new_ls = []\n",
    "    return long_ls\n",
    "print(longest_streak([11, -2, 35, -46, 7, -2, 3, 11]))              \n",
    "        "
   ]
  },
  {
   "cell_type": "code",
   "execution_count": null,
   "metadata": {},
   "outputs": [],
   "source": []
  }
 ],
 "metadata": {
  "kernelspec": {
   "display_name": "Python 3",
   "language": "python",
   "name": "python3"
  },
  "language_info": {
   "codemirror_mode": {
    "name": "ipython",
    "version": 3
   },
   "file_extension": ".py",
   "mimetype": "text/x-python",
   "name": "python",
   "nbconvert_exporter": "python",
   "pygments_lexer": "ipython3",
   "version": "3.8.3"
  }
 },
 "nbformat": 4,
 "nbformat_minor": 4
}
