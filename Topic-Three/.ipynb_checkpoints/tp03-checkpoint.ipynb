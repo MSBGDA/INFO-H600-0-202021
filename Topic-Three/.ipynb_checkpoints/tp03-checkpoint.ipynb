{
 "cells": [
  {
   "cell_type": "markdown",
   "metadata": {},
   "source": [
    "# INFO-H-600-Computing foundations of data scienes\n",
    "#### Author: Kubam Ivo\n",
    "#### Date: 3/10/2020"
   ]
  },
  {
   "cell_type": "markdown",
   "metadata": {},
   "source": [
    "#### Ex. 1. Write a function that finds the minimum in a list of numbers."
   ]
  },
  {
   "cell_type": "code",
   "execution_count": 20,
   "metadata": {},
   "outputs": [
    {
     "name": "stdout",
     "output_type": "stream",
     "text": [
      "2\n"
     ]
    }
   ],
   "source": [
    "def min_list(ls):\n",
    "    '''Returns the minimum number from a list'''\n",
    "    order = []\n",
    "    len_ls = len(ls)\n",
    "    for elem in ls:\n",
    "        a = 0\n",
    "        for i in range(0,len_ls):\n",
    "            if elem < ls[i]:\n",
    "                a += 1\n",
    "        pos = len_ls - a -1\n",
    "        order.insert(pos,elem)\n",
    "    return order[0]\n",
    "\n",
    "print(min_list([3, 12, 3, 2, 10])) \n",
    "         \n",
    "        "
   ]
  },
  {
   "cell_type": "markdown",
   "metadata": {},
   "source": [
    "#### Write a function that finds the name of the oldest person in a list of tuples"
   ]
  },
  {
   "cell_type": "code",
   "execution_count": 29,
   "metadata": {},
   "outputs": [
    {
     "name": "stdout",
     "output_type": "stream",
     "text": [
      "Jean\n"
     ]
    }
   ],
   "source": [
    "def max_list(ls):\n",
    "    '''Returns the maximum number from a list'''\n",
    "    order = []\n",
    "    len_ls = len(ls)\n",
    "    for elem in ls:\n",
    "        a = 0\n",
    "        for i in range(0,len_ls):\n",
    "            if elem < ls[i]:\n",
    "                a += 1\n",
    "        pos = len_ls - a -1\n",
    "        order.insert(pos,elem)\n",
    "    return order[len_ls -1]\n",
    "\n",
    "def elder(ls):\n",
    "    '''Returns the name of the oldest person in a list'''\n",
    "    ls_age = []\n",
    "    ls_name = []\n",
    "    for elem in ls:\n",
    "        name, age = elem\n",
    "        ls_age.append(age)\n",
    "        ls_name.append(name)\n",
    "    max_age = max_list(ls_age) # calls the max_list function to return the max age\n",
    "    index = ls_age.index(max_age)\n",
    "    return ls_name[index]\n",
    "\n",
    "print(elder([('Jean', 34), ('Laurent', 27), ('Michel', 33)]))    \n",
    "   "
   ]
  },
  {
   "cell_type": "code",
   "execution_count": null,
   "metadata": {},
   "outputs": [],
   "source": []
  }
 ],
 "metadata": {
  "kernelspec": {
   "display_name": "Python 3",
   "language": "python",
   "name": "python3"
  },
  "language_info": {
   "codemirror_mode": {
    "name": "ipython",
    "version": 3
   },
   "file_extension": ".py",
   "mimetype": "text/x-python",
   "name": "python",
   "nbconvert_exporter": "python",
   "pygments_lexer": "ipython3",
   "version": "3.8.3"
  }
 },
 "nbformat": 4,
 "nbformat_minor": 4
}
