{
 "cells": [
  {
   "cell_type": "code",
   "execution_count": 13,
   "metadata": {},
   "outputs": [],
   "source": [
    "class MyClass:\n",
    "    variable = \"blah\"\n",
    "\n",
    "    def function(self):\n",
    "        self.integer = 12345\n",
    "        return \"This is a message inside the class.\""
   ]
  },
  {
   "cell_type": "code",
   "execution_count": 14,
   "metadata": {},
   "outputs": [
    {
     "name": "stdout",
     "output_type": "stream",
     "text": [
      "blah\n",
      "BlahBlah\n"
     ]
    }
   ],
   "source": [
    "myobject_x = MyClass()\n",
    "myobject_y = MyClass()\n",
    "\n",
    "myobject_y.variable = \"BlahBlah\"\n",
    "\n",
    "print(myobject_x.variable)\n",
    "print(myobject_y.variable)"
   ]
  },
  {
   "cell_type": "code",
   "execution_count": 15,
   "metadata": {},
   "outputs": [
    {
     "data": {
      "text/plain": [
       "'This is a message inside the class.'"
      ]
     },
     "execution_count": 15,
     "metadata": {},
     "output_type": "execute_result"
    }
   ],
   "source": [
    "myobject_x.function()"
   ]
  },
  {
   "cell_type": "code",
   "execution_count": 16,
   "metadata": {},
   "outputs": [
    {
     "data": {
      "text/plain": [
       "12345"
      ]
     },
     "execution_count": 16,
     "metadata": {},
     "output_type": "execute_result"
    }
   ],
   "source": [
    "myobject_x.integer"
   ]
  },
  {
   "cell_type": "code",
   "execution_count": 18,
   "metadata": {},
   "outputs": [
    {
     "data": {
      "text/plain": [
       "2.0"
      ]
     },
     "execution_count": 18,
     "metadata": {},
     "output_type": "execute_result"
    }
   ],
   "source": [
    "import numpy as np\n",
    "np.sqrt(4)"
   ]
  },
  {
   "cell_type": "code",
   "execution_count": 23,
   "metadata": {},
   "outputs": [],
   "source": [
    "class Complex:\n",
    "    import numpy as np\n",
    "    def __init__(self, realpart, imagpart):\n",
    "        self.R = realpart\n",
    "        self.I = imagpart\n",
    "    def Norm(self):\n",
    "        return np.sqrt(self.R**2 + self.I**2)       "
   ]
  },
  {
   "cell_type": "code",
   "execution_count": 27,
   "metadata": {},
   "outputs": [
    {
     "data": {
      "text/plain": [
       "(3, -4, 5.0)"
      ]
     },
     "execution_count": 27,
     "metadata": {},
     "output_type": "execute_result"
    }
   ],
   "source": [
    "Z = Complex(3, -4)\n",
    "Z.R, Z.I, Z.Norm()"
   ]
  },
  {
   "cell_type": "markdown",
   "metadata": {},
   "source": [
    "# 1.1)"
   ]
  },
  {
   "cell_type": "code",
   "execution_count": 32,
   "metadata": {},
   "outputs": [
    {
     "data": {
      "text/plain": [
       "({'blabla'}, {'a', 'b', 'l'})"
      ]
     },
     "execution_count": 32,
     "metadata": {},
     "output_type": "execute_result"
    }
   ],
   "source": [
    "b = 'blabla'\n",
    "a = ['blabla']\n",
    "set(a), set(b)"
   ]
  },
  {
   "cell_type": "code",
   "execution_count": 49,
   "metadata": {},
   "outputs": [
    {
     "data": {
      "text/plain": [
       "{'hey'}"
      ]
     },
     "execution_count": 49,
     "metadata": {},
     "output_type": "execute_result"
    }
   ],
   "source": [
    "c = set()\n",
    "c.add(\"hey\")\n",
    "c"
   ]
  },
  {
   "cell_type": "code",
   "execution_count": 41,
   "metadata": {},
   "outputs": [
    {
     "name": "stdout",
     "output_type": "stream",
     "text": [
      "Hello, I am Jones. I am 17.\n"
     ]
    }
   ],
   "source": [
    "# Your code here\n",
    "class People:\n",
    "    def __init__(self, name, age, city):\n",
    "        self.__name = name\n",
    "        self.__age = age\n",
    "        self.__city = set(city)\n",
    "    \n",
    "    def greetings(self):\n",
    "        print(\"Hello, I am \" + self.__name + \". I am \" + str(self.__age) + \".\")\n",
    "    \n",
    "if __name__==\"__main__\":\n",
    "    j = People(\"Jones\", 17, \"Bruxelles\")\n",
    "    j.greetings()"
   ]
  },
  {
   "cell_type": "markdown",
   "metadata": {},
   "source": [
    "# 1.2)"
   ]
  },
  {
   "cell_type": "code",
   "execution_count": 51,
   "metadata": {},
   "outputs": [
    {
     "name": "stdout",
     "output_type": "stream",
     "text": [
      "Hello, I am Rudolph. I am 23.\n",
      "Hello, I am Mark. I am 44.\n",
      "Hello, I am Karl. I am 54.\n",
      "Hello, I am George. I am 81.\n",
      "Hello, I am Ben. I am 23.\n",
      "Hello, I am Ken. I am 18.\n",
      "Hello, I am Leonard. I am 15.\n",
      "Hello, I am Stan. I am 43.\n",
      "Hello, I am Jack. I am 15.\n",
      "Hello, I am Alfred. I am 54.\n",
      "Hello, I am Arthur. I am 15.\n",
      "Hello, I am Stephen. I am 23.\n",
      "Hello, I am Guy. I am 44.\n",
      "Hello, I am Fred. I am 43.\n"
     ]
    }
   ],
   "source": [
    "# Your code here\n",
    "class People:\n",
    "    def __init__(self, name, age, city):\n",
    "        self.__name = name\n",
    "        self.__age = age\n",
    "        self.__city = set(city)\n",
    "        self.__friends = set()\n",
    "    \n",
    "    def greetings(self):\n",
    "        print(\"Hello, I am \" + self.__name + \". I am \" + str(self.__age) + \".\")\n",
    "        \n",
    "    def add_friend(self, person):\n",
    "        self.__friends.add(person)\n",
    "        \n",
    "    def meet(self, person):\n",
    "        if person not in self.__friends:\n",
    "            self.add_friend(person)\n",
    "            person.add_friend(self)\n",
    "\n",
    "    def print_friends(self):\n",
    "        for f in self.__friends:\n",
    "            f.greetings()\n",
    "\n",
    "if __name__==\"__main__\":\n",
    "    l = ([\"John\",    42, [\"Bruxelles\", \"Paris\"]],\n",
    "         [\"Ken\",     18, [\"Namur\"]],\n",
    "         [\"Jack\",    15, [\"Bruxelles\"]],\n",
    "         [\"Arthur\",  15, [\"Liege\"]],\n",
    "         [\"Leonard\", 15, [\"Hasselt\"]],\n",
    "         [\"Luke\",    15, [\"Bruxelles\", \"Hasselt\"]],\n",
    "         [\"Ben\",     23, [\"Paris\"]],\n",
    "         [\"Lee\",     44, [\"Gent\", \"Oostende\"]],\n",
    "         [\"Alfred\",  54, [\"Namur\", \"Liege\", \"Bruxelles\"]],\n",
    "         [\"Leonard\", 15, [\"Hasselt\"]],\n",
    "         [\"Stephen\", 23, [\"Brugges\"]],\n",
    "         [\"Marty\",   66, [\"Bruxelles\", \"Gent\"]],\n",
    "         [\"Fred\",    43, [\"Bruxelles\", \"Hasselt\"]],\n",
    "         [\"Paul\",    17, [\"Paris\"]],\n",
    "         [\"Frank\",   39, [\"Gent\", \"Oostende\"]],\n",
    "         [\"George\",  81, [\"Namur\", \"Liege\", \"Paris\"]],\n",
    "         [\"Albert\",  27, [\"Bruxelles\", \"Hasselt\"]],\n",
    "         [\"Stan\",    43, [\"Paris\"]],\n",
    "         [\"Peter\",   74, [\"Gent\", \"Oostende\"]],\n",
    "         [\"Guy\",     44, [\"Namur\", \"Gent\", \"Bruxelles\"]],\n",
    "         [\"Simon\",   13, [\"Bruxelles\", \"Hasselt\"]],\n",
    "         [\"Rudolph\", 23, [\"Paris\"]],\n",
    "         [\"Mark\",    44, [\"Gent\", \"Oostende\"]],\n",
    "         [\"Karl\",    54, [\"Namur\", \"Bruxelles\"]],\n",
    "         [\"Damien\",  32, [\"Oostende\"]])\n",
    "\n",
    "    people = [People(*li) for li in l]\n",
    "    import random\n",
    "    random.seed(0)\n",
    "    for i in range(200):\n",
    "        a = random.randint(0, len(people)-1)\n",
    "        b = random.randint(0, len(people)-1)\n",
    "        if a != b:\n",
    "            people[a].meet(people[b])\n",
    "    people[0].print_friends()"
   ]
  },
  {
   "cell_type": "markdown",
   "metadata": {},
   "source": [
    "# 1.3)"
   ]
  },
  {
   "cell_type": "code",
   "execution_count": 53,
   "metadata": {},
   "outputs": [],
   "source": [
    "import random\n",
    "def play_rps(player, opponent):\n",
    "    def play_rps_round(player_choice, opponent_choice):\n",
    "        if player_choice == opponent_choice:\n",
    "            return 0\n",
    "        elif ((player_choice > opponent_choice\n",
    "                and (player_choice+opponent_choice) != 2)\n",
    "            or (player_choice == 0 and opponent_choice == 2)):\n",
    "            return 1\n",
    "        else:\n",
    "            return -1\n",
    "        \n",
    "    score_player, score_opponent = 0, 0\n",
    "    \n",
    "    while score_player < 5 and score_opponent < 5:\n",
    "        player_choice = player.get_random_rps_choice()\n",
    "        opponent_choice = player.get_random_rps_choice()\n",
    "        res = play_rps_round(player_choice, opponent_choice)\n",
    "        if res == 1:\n",
    "            score_player += 1\n",
    "        elif res == -1:\n",
    "            score_opponent += 1\n",
    "\n",
    "    return score_player == 5\n",
    "\n",
    "\n",
    "class People:\n",
    "\n",
    "    def __init__(self, name, age, cities):\n",
    "        self.__name = name\n",
    "        self.__age = age\n",
    "        self.__cities = set(cities)\n",
    "        self.__friends = set()\n",
    "\n",
    "    def greetings(self):\n",
    "        print(\"Hello, I am \" + self.__name + \". I am \" + str(self.__age) +\".\")\n",
    "\n",
    "\n",
    "    def add_friend(self, person):\n",
    "        self.__friends.add(person)\n",
    "\n",
    "    def meet(self, person):\n",
    "        if person not in self.__friends:\n",
    "            self.add_friend(person)\n",
    "            person.add_friend(self)\n",
    "\n",
    "    def print_friends(self):\n",
    "        for f in self.__friends:\n",
    "            f.greetings()\n",
    "\n",
    "\n",
    "    def get_random_rps_choice(self):\n",
    "        return random.randint(0,2)\n",
    "\n",
    "    def get_name(self):\n",
    "        return self.__name"
   ]
  },
  {
   "cell_type": "code",
   "execution_count": 54,
   "metadata": {},
   "outputs": [
    {
     "name": "stdout",
     "output_type": "stream",
     "text": [
      "Damien won against Fred\n",
      "Rudolph won against Stephen\n",
      "Stephen won against Lee\n",
      "Arthur won against Leonard\n",
      "Stephen won against Peter\n",
      "Frank won against George\n",
      "Paul won against Stephen\n",
      "Ben won against Luke\n",
      "Ken won against Guy\n",
      "Rudolph won against Frank\n",
      "Karl won against Stephen\n",
      "John won against Guy\n",
      "Rudolph won against Damien\n",
      "George won against Stan\n",
      "Guy won against Albert\n",
      "Leonard won against Simon\n",
      "Stan won against Marty\n",
      "George won against Arthur\n",
      "Karl won against Stephen\n",
      "Jack won against Marty\n"
     ]
    }
   ],
   "source": [
    "if __name__==\"__main__\":\n",
    "    l = ([\"John\",    42, [\"Bruxelles\", \"Paris\"]],\n",
    "         [\"Ken\",     18, [\"Namur\"]],\n",
    "         [\"Jack\",    15, [\"Bruxelles\"]],\n",
    "         [\"Arthur\",  15, [\"Liege\"]],\n",
    "         [\"Leonard\", 15, [\"Hasselt\"]],\n",
    "         [\"Luke\",    15, [\"Bruxelles\", \"Hasselt\"]],\n",
    "         [\"Ben\",     23, [\"Paris\"]],\n",
    "         [\"Lee\",     44, [\"Gent\", \"Oostende\"]],\n",
    "         [\"Alfred\",  54, [\"Namur\", \"Liege\", \"Bruxelles\"]],\n",
    "         [\"Leonard\", 15, [\"Hasselt\"]],\n",
    "         [\"Stephen\", 23, [\"Brugges\"]],\n",
    "         [\"Marty\",   66, [\"Bruxelles\", \"Gent\"]],\n",
    "         [\"Fred\",    43, [\"Bruxelles\", \"Hasselt\"]],\n",
    "         [\"Paul\",    17, [\"Paris\"]],\n",
    "         [\"Frank\",   39, [\"Gent\", \"Oostende\"]],\n",
    "         [\"George\",  81, [\"Namur\", \"Liege\", \"Paris\"]],\n",
    "         [\"Albert\",  27, [\"Bruxelles\", \"Hasselt\"]],\n",
    "         [\"Stan\",    43, [\"Paris\"]],\n",
    "         [\"Peter\",   74, [\"Gent\", \"Oostende\"]],\n",
    "         [\"Guy\",     44, [\"Namur\", \"Gent\", \"Bruxelles\"]],\n",
    "         [\"Simon\",   13, [\"Bruxelles\", \"Hasselt\"]],\n",
    "         [\"Rudolph\", 23, [\"Paris\"]],\n",
    "         [\"Mark\",    44, [\"Gent\", \"Oostende\"]],\n",
    "         [\"Karl\",    54, [\"Namur\", \"Bruxelles\"]],\n",
    "         [\"Damien\",  32, [\"Oostende\"]])\n",
    "\n",
    "    people = [People(*li) for li in l]\n",
    "    random.seed(0)\n",
    "    for i in range(20):\n",
    "        a = people[random.randint(0, len(people)-1)]\n",
    "        b = people[random.randint(0, len(people)-1)]\n",
    "        if a == b:\n",
    "            pass\n",
    "        if play_rps(a, b):\n",
    "            print(a.get_name() + \" won against \" + b.get_name())\n",
    "        else:\n",
    "            print(b.get_name() + \" won against \" + a.get_name())"
   ]
  },
  {
   "cell_type": "markdown",
   "metadata": {},
   "source": [
    "# 1.4)"
   ]
  },
  {
   "cell_type": "code",
   "execution_count": 1,
   "metadata": {},
   "outputs": [
    {
     "name": "stdout",
     "output_type": "stream",
     "text": [
      "10\n"
     ]
    }
   ],
   "source": [
    "import random\n",
    "\n",
    "def play_rps(player, opponent):\n",
    "    def play_rps_round(player_choice, opponent_choice):\n",
    "        if player_choice == opponent_choice:\n",
    "            return 0\n",
    "        elif ((player_choice > opponent_choice\n",
    "                and (player_choice+opponent_choice) != 2)\n",
    "            or (player_choice == 0 and opponent_choice == 2)):\n",
    "            return 1\n",
    "        else:\n",
    "            return -1\n",
    "\n",
    "    score_player, score_opponent = 0, 0\n",
    "\n",
    "    while score_player < 5 or score_opponent < 5:\n",
    "        player_choice = player.get_random_rps_choice()\n",
    "        opponent_choice = player.get_random_rps_choice()\n",
    "        res = play_rps_round(player_choice, opponent_choice)\n",
    "        if res == 1:\n",
    "            score_player += 1\n",
    "        elif res == -1:\n",
    "            score_opponent += 1\n",
    "\n",
    "    return score_player == 5\n",
    "\n",
    "class City:\n",
    "\n",
    "    __cities = dict()\n",
    "\n",
    "    def __init__(self, name):\n",
    "        self.__citizens = []       # a set could be used, to be able to\n",
    "                                   # reproduce the result we use a list here\n",
    "\n",
    "        self.__name = name\n",
    "        self.__cities[name] = self\n",
    "\n",
    "    def add_citizen(self, person):\n",
    "        self.__citizens.append(person)\n",
    "\n",
    "    def get_population(self):\n",
    "        return len(self.__citizens)\n",
    "\n",
    "    @classmethod\n",
    "    def get_city(cls, name):\n",
    "        if name not in cls.__cities:\n",
    "            City(name)\n",
    "        return cls.__cities.get(name)\n",
    "\n",
    "\n",
    "class People:\n",
    "\n",
    "    def __init__(self, name, age, cities):\n",
    "        self.__name = name\n",
    "        self.__age = age\n",
    "        self.__cities = set()\n",
    "        for c in cities:\n",
    "            city = City.get_city(c)\n",
    "            self.__cities.add(city)\n",
    "            city.add_citizen(self)\n",
    "\n",
    "        self.__friends = set()\n",
    "\n",
    "    def greetings(self):\n",
    "        print(\"Hello, I am \" + self.__name + \". I am \" + str(self.__age) +\".\")\n",
    "\n",
    "\n",
    "    def add_friend(self, person):\n",
    "        self.__friends.add(person)\n",
    "\n",
    "    def meet(self, person):\n",
    "        if person not in self.__friends:\n",
    "            self.add_friend(person)\n",
    "            person.add_friend(self)\n",
    "\n",
    "    def print_friends(self):\n",
    "        for f in self.__friends:\n",
    "            f.greetings()\n",
    "\n",
    "\n",
    "    def get_random_rps_choice(self):\n",
    "        return random.randint(0,2)\n",
    "\n",
    "    def get_name(self):\n",
    "        return self.__name\n",
    "\n",
    "\n",
    "if __name__==\"__main__\":\n",
    "    l = ([\"John\",    42, [\"Bruxelles\", \"Paris\"]],\n",
    "         [\"Ken\",     18, [\"Namur\"]],\n",
    "         [\"Jack\",    15, [\"Bruxelles\"]],\n",
    "         [\"Arthur\",  15, [\"Liege\"]],\n",
    "         [\"Leonard\", 15, [\"Hasselt\"]],\n",
    "         [\"Luke\",    15, [\"Bruxelles\", \"Hasselt\"]],\n",
    "         [\"Ben\",     23, [\"Paris\"]],\n",
    "         [\"Lee\",     44, [\"Gent\", \"Oostende\"]],\n",
    "         [\"Alfred\",  54, [\"Namur\", \"Liege\", \"Bruxelles\"]],\n",
    "         [\"Leonard\", 15, [\"Hasselt\"]],\n",
    "         [\"Stephen\", 23, [\"Brugges\"]],\n",
    "         [\"Marty\",   66, [\"Bruxelles\", \"Gent\"]],\n",
    "         [\"Fred\",    43, [\"Bruxelles\", \"Hasselt\"]],\n",
    "         [\"Paul\",    17, [\"Paris\"]],\n",
    "         [\"Frank\",   39, [\"Gent\", \"Oostende\"]],\n",
    "         [\"George\",  81, [\"Namur\", \"Liege\", \"Paris\"]],\n",
    "         [\"Albert\",  27, [\"Bruxelles\", \"Hasselt\"]],\n",
    "         [\"Stan\",    43, [\"Paris\"]],\n",
    "         [\"Peter\",   74, [\"Gent\", \"Oostende\"]],\n",
    "         [\"Guy\",     44, [\"Namur\", \"Gent\", \"Bruxelles\"]],\n",
    "         [\"Simon\",   13, [\"Bruxelles\", \"Hasselt\"]],\n",
    "         [\"Rudolph\", 23, [\"Paris\"]],\n",
    "         [\"Mark\",    44, [\"Gent\", \"Oostende\"]],\n",
    "         [\"Karl\",    54, [\"Namur\", \"Bruxelles\"]],\n",
    "         [\"Damien\",  32, [\"Oostende\"]])\n",
    "\n",
    "    people = [People(*li) for li in l]\n",
    "    random.seed(0)\n",
    "    bx = City.get_city(\"Bruxelles\")\n",
    "    print(bx.get_population())                      # should print 10"
   ]
  },
  {
   "cell_type": "markdown",
   "metadata": {},
   "source": [
    "# 1,5)"
   ]
  },
  {
   "cell_type": "code",
   "execution_count": null,
   "metadata": {},
   "outputs": [],
   "source": []
  },
  {
   "cell_type": "markdown",
   "metadata": {},
   "source": [
    "# 2)"
   ]
  },
  {
   "cell_type": "code",
   "execution_count": 10,
   "metadata": {},
   "outputs": [],
   "source": [
    "letters = \"C:/Users/maria/OneDrive/Documents/Unif 2021/computing found. data science/TP05/exos/letters.txt\"\n",
    "text = \"C:/Users/maria/OneDrive/Documents/Unif 2021/computing found. data science/TP05/exos/text.txt\""
   ]
  },
  {
   "cell_type": "code",
   "execution_count": 57,
   "metadata": {},
   "outputs": [],
   "source": [
    "def load_lettres(lettres):\n",
    "    dr = {}\n",
    "    for l in open(lettres):\n",
    "        (lettre, remplacant, nb) = l.split()\n",
    "        #print(lettre, remplacant, nb)\n",
    "        dr[lettre.upper()] = remplacant.upper() * int(nb)\n",
    "        dr[lettre.lower()] = remplacant.lower() * int(nb)\n",
    "    return dr"
   ]
  },
  {
   "cell_type": "code",
   "execution_count": 58,
   "metadata": {},
   "outputs": [
    {
     "data": {
      "text/plain": [
       "{'A': 'EEE',\n",
       " 'a': 'eee',\n",
       " 'E': 'OO',\n",
       " 'e': 'oo',\n",
       " 'I': 'UUU',\n",
       " 'i': 'uuu',\n",
       " 'P': 'RRRR',\n",
       " 'p': 'rrrr',\n",
       " 'U': 'I',\n",
       " 'u': 'i',\n",
       " 'Y': 'AAA',\n",
       " 'y': 'aaa'}"
      ]
     },
     "execution_count": 58,
     "metadata": {},
     "output_type": "execute_result"
    }
   ],
   "source": [
    "load_lettres(letters)"
   ]
  },
  {
   "cell_type": "code",
   "execution_count": 77,
   "metadata": {},
   "outputs": [],
   "source": [
    "def remplace_lettres(lettres, texte):\n",
    "    dr = load_lettres(lettres)\n",
    "    text_in = list(open(texte).read())\n",
    "    print(text_in)\n",
    "    text_out = []\n",
    "    for c in text_in:\n",
    "        text_out.append(dr.get(c, c)) # If second value don't exist return c\n",
    "    print(dr.get('P','P'))\n",
    "    print(dr.get('P'))\n",
    "    print(dr.get('G','G'))\n",
    "    print(dr.get('G'))\n",
    "    fout = open(\"new.txt\", \"w\")\n",
    "    fout.write(\"\".join(text_out))\n",
    "    fout.write(\"End of transmission captain\")\n",
    "    fout.close()"
   ]
  },
  {
   "cell_type": "code",
   "execution_count": 78,
   "metadata": {},
   "outputs": [
    {
     "name": "stdout",
     "output_type": "stream",
     "text": [
      "['P', 'y', 't', 'h', 'o', 'n', ' ', 'i', 's', ' ', 'a', 'n', ' ', 'i', 'n', 't', 'e', 'r', 'p', 'r', 'e', 't', 'e', 'd', ',', ' ', 'h', 'i', 'g', 'h', '-', 'l', 'e', 'v', 'e', 'l', ' ', 'a', 'n', 'd', ' ', 'g', 'e', 'n', 'e', 'r', 'a', 'l', '-', 'p', 'u', 'r', 'p', 'o', 's', 'e', ' ', '\\n', 'p', 'r', 'o', 'g', 'r', 'a', 'm', 'm', 'i', 'n', 'g', ' ', 'l', 'a', 'n', 'g', 'u', 'a', 'g', 'e', '.', ' ', '\\n', 'C', 'r', 'e', 'a', 't', 'e', 'd', ' ', 'b', 'y', ' ', 'G', 'u', 'i', 'd', 'o', ' ', 'v', 'a', 'n', ' ', 'R', 'o', 's', 's', 'u', 'm', ' ', 'a', 'n', 'd', ' ', 'f', 'i', 'r', 's', 't', ' ', 'r', 'e', 'l', 'e', 'a', 's', 'e', 'd', ' ', 'i', 'n', ' ', '1', '9', '9', '1', ',', ' ', '\\n', 'P', 'y', 't', 'h', 'o', 'n', \"'\", 's', ' ', 'd', 'e', 's', 'i', 'g', 'n', ' ', 'p', 'h', 'i', 'l', 'o', 's', 'o', 'p', 'h', 'y', ' ', 'e', 'm', 'p', 'h', 'a', 's', 'i', 'z', 'e', 's', ' ', 'c', 'o', 'd', 'e', ' ', 'r', 'e', 'a', 'd', 'a', 'b', 'i', 'l', 'i', 't', 'y', ' ', '\\n', 'w', 'i', 't', 'h', ' ', 'i', 't', 's', ' ', 'n', 'o', 't', 'a', 'b', 'l', 'e', ' ', 'u', 's', 'e', ' ', 'o', 'f', ' ', 's', 'i', 'g', 'n', 'i', 'f', 'i', 'c', 'a', 'n', 't', ' ', 'w', 'h', 'i', 't', 'e', 's', 'p', 'a', 'c', 'e', '.', ' ', '\\n']\n",
      "RRRR\n",
      "RRRR\n",
      "G\n",
      "None\n"
     ]
    }
   ],
   "source": [
    "remplace_lettres(letters, text)"
   ]
  },
  {
   "cell_type": "code",
   "execution_count": null,
   "metadata": {},
   "outputs": [],
   "source": []
  }
 ],
 "metadata": {
  "kernelspec": {
   "display_name": "Python 3",
   "language": "python",
   "name": "python3"
  },
  "language_info": {
   "codemirror_mode": {
    "name": "ipython",
    "version": 3
   },
   "file_extension": ".py",
   "mimetype": "text/x-python",
   "name": "python",
   "nbconvert_exporter": "python",
   "pygments_lexer": "ipython3",
   "version": "3.7.6"
  }
 },
 "nbformat": 4,
 "nbformat_minor": 4
}
