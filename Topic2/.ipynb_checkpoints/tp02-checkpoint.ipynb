{
 "cells": [
  {
   "cell_type": "markdown",
   "metadata": {},
   "source": [
    "# INFO-H-600-Computing foundations of data scienes\n",
    "#### Author: Kubam Ivo\n",
    "#### Date: 3/10/2020"
   ]
  },
  {
   "cell_type": "markdown",
   "metadata": {},
   "source": [
    "#### Ex. 1. What does the following program do? Explain it with simple values. Can you simplify it (replace it with an equivalent but simpler program) ?"
   ]
  },
  {
   "cell_type": "code",
   "execution_count": 5,
   "metadata": {},
   "outputs": [
    {
     "name": "stdout",
     "output_type": "stream",
     "text": [
      "4\n",
      "5\n"
     ]
    }
   ],
   "source": [
    "def f(a, b):\n",
    "    '''Takes two arguments and prints them out based on conditions'''\n",
    "    if a>0 and b>1:\n",
    "        print(a)\n",
    "    elif a>0 and b<=1:\n",
    "        print(b)\n",
    "    elif a<0 and b>1:\n",
    "        print(a+b)\n",
    "    elif a<0 and b<=1:\n",
    "        print(b) \n",
    "        \n",
    "f(-1,5); f(5,9)"
   ]
  },
  {
   "cell_type": "markdown",
   "metadata": {},
   "source": [
    "#### Ex. 2. What are the values of the variables at each instruction ?"
   ]
  },
  {
   "cell_type": "code",
   "execution_count": 15,
   "metadata": {},
   "outputs": [
    {
     "name": "stdout",
     "output_type": "stream",
     "text": [
      "test2:  True\n",
      "test3:  True\n",
      "arret:  False\n",
      "\n",
      "test2:  False\n",
      "test3:  True\n",
      "arret:  False\n"
     ]
    }
   ],
   "source": [
    "a=2; b=3; c=4\n",
    "test1 = True\n",
    "test2 = (b >= a) and (c >= b); print('test2: ',test2)\n",
    "test3 = test1 or test2; print('test3: ',test3)\n",
    "arret = test3 and (not test2); print('arret: ',arret)\n",
    "print()\n",
    "a += 1; b -= 1; c -= 2\n",
    "test1 = True\n",
    "test2 = (b >= a) and (c >= b); print('test2: ',test2)\n",
    "test3 = test1 or test2; print('test3: ',test3)\n",
    "arret = arret or test2; print('arret: ',arret)"
   ]
  },
  {
   "cell_type": "markdown",
   "metadata": {},
   "source": [
    "#### Ex. 3. Some of the following programs are not correct. For each program, indicate what it prints and eventually which instructions may cause some errors"
   ]
  },
  {
   "cell_type": "code",
   "execution_count": 16,
   "metadata": {},
   "outputs": [
    {
     "name": "stdout",
     "output_type": "stream",
     "text": [
      "5\n",
      "5\n"
     ]
    }
   ],
   "source": [
    "### 3.1\n",
    "def my_test(a):\n",
    "    print(a)\n",
    "a = 5\n",
    "my_test(a)\n",
    "print(a) # results are the same because does not change the value of a"
   ]
  },
  {
   "cell_type": "code",
   "execution_count": 18,
   "metadata": {},
   "outputs": [
    {
     "name": "stdout",
     "output_type": "stream",
     "text": [
      "6\n",
      "5\n"
     ]
    }
   ],
   "source": [
    "## 3.2 \n",
    "def my_test(a):\n",
    "    a += 1\n",
    "    print(a)\n",
    "a = 5\n",
    "my_test(a)\n",
    "print(a) # the function changes the value of a but the print function print the original value"
   ]
  },
  {
   "cell_type": "code",
   "execution_count": 19,
   "metadata": {},
   "outputs": [
    {
     "name": "stdout",
     "output_type": "stream",
     "text": [
      "5\n",
      "5\n"
     ]
    }
   ],
   "source": [
    "## 3.3 \n",
    "def my_test(b):\n",
    "    a = 6\n",
    "    print(b)\n",
    "a = 5\n",
    "my_test(a)\n",
    "print(a) # results are the same because does not change the value of a"
   ]
  },
  {
   "cell_type": "code",
   "execution_count": 21,
   "metadata": {},
   "outputs": [
    {
     "name": "stdout",
     "output_type": "stream",
     "text": [
      "5\n"
     ]
    },
    {
     "ename": "NameError",
     "evalue": "name 'd' is not defined",
     "output_type": "error",
     "traceback": [
      "\u001b[1;31m---------------------------------------------------------------------------\u001b[0m",
      "\u001b[1;31mNameError\u001b[0m                                 Traceback (most recent call last)",
      "\u001b[1;32m<ipython-input-21-76baaa1f2405>\u001b[0m in \u001b[0;36m<module>\u001b[1;34m\u001b[0m\n\u001b[0;32m      6\u001b[0m \u001b[0mmy_test\u001b[0m\u001b[1;33m(\u001b[0m\u001b[1;36m4\u001b[0m\u001b[1;33m)\u001b[0m\u001b[1;33m\u001b[0m\u001b[1;33m\u001b[0m\u001b[0m\n\u001b[0;32m      7\u001b[0m \u001b[0mprint\u001b[0m\u001b[1;33m(\u001b[0m\u001b[0ma\u001b[0m\u001b[1;33m)\u001b[0m\u001b[1;33m\u001b[0m\u001b[1;33m\u001b[0m\u001b[0m\n\u001b[1;32m----> 8\u001b[1;33m \u001b[0mprint\u001b[0m\u001b[1;33m(\u001b[0m\u001b[0md\u001b[0m\u001b[1;33m)\u001b[0m\u001b[1;31m#\u001b[0m\u001b[1;33m\u001b[0m\u001b[1;33m\u001b[0m\u001b[0m\n\u001b[0m",
      "\u001b[1;31mNameError\u001b[0m: name 'd' is not defined"
     ]
    }
   ],
   "source": [
    "## 3.4\n",
    "def my_test(a):\n",
    "    a = a + 6\n",
    "    c = a\n",
    "a = 5\n",
    "my_test(4)\n",
    "print(a) #  # the function changes the value of a but the print function print the original value\n",
    "print(c) # c is local in the function. so outputs an error "
   ]
  },
  {
   "cell_type": "code",
   "execution_count": 22,
   "metadata": {},
   "outputs": [
    {
     "name": "stdout",
     "output_type": "stream",
     "text": [
      "6\n",
      "5\n"
     ]
    }
   ],
   "source": [
    "## 3.5\n",
    "def my_test():\n",
    "    a = 6\n",
    "    print(a)\n",
    "a = 5\n",
    "my_test() # prints a static value of 6 always no matter the value of a because function takes no argument\n",
    "print(a)"
   ]
  },
  {
   "cell_type": "code",
   "execution_count": 23,
   "metadata": {},
   "outputs": [
    {
     "name": "stdout",
     "output_type": "stream",
     "text": [
      "9\n",
      "5\n"
     ]
    }
   ],
   "source": [
    "## 3.6\n",
    "def my_test(a=8):\n",
    "    print(a)\n",
    "a = 5\n",
    "my_test(9) # function takes a default value of 8 but overides this incase a an argument is passed\n",
    "print(a)"
   ]
  },
  {
   "cell_type": "markdown",
   "metadata": {},
   "source": [
    "#### Ex. 4. Write a function that checks whether an integer is a valid number for the Lotto (is between 1 and 42 included)."
   ]
  },
  {
   "cell_type": "code",
   "execution_count": 30,
   "metadata": {},
   "outputs": [
    {
     "name": "stdout",
     "output_type": "stream",
     "text": [
      "87  an invalid number\n"
     ]
    }
   ],
   "source": [
    "def lotto(a : int):\n",
    "    '''Lotto function accepts a number and check is a number between 1 and 42'''\n",
    "    lotto_list = range(1,43)\n",
    "    if a in lotto_list:\n",
    "        print(a, 'a valid number')\n",
    "    else:\n",
    "        print(a,' an invalid number')\n",
    "lotto(random.randint(1, 100))"
   ]
  },
  {
   "cell_type": "markdown",
   "metadata": {},
   "source": [
    "#### Ex. 5. Write a function that checks whether a year is leap. Leap years are the years divisible by 4 but not by 100 or the years divisible by 400."
   ]
  },
  {
   "cell_type": "code",
   "execution_count": 12,
   "metadata": {},
   "outputs": [
    {
     "name": "stdout",
     "output_type": "stream",
     "text": [
      "Leap year\n"
     ]
    }
   ],
   "source": [
    "import random\n",
    "\n",
    "def leap_year(year : int):\n",
    "    '''Check for year leap years'''\n",
    "    if (year % 4 ==0):\n",
    "        if (year % 100 == 0 or year % 400 == 0):\n",
    "            print('Not a leap year')\n",
    "        else: print('Leap year')\n",
    "    else: print('Not a leap year')  \n",
    "\n",
    "leap_year(2024)"
   ]
  },
  {
   "cell_type": "markdown",
   "metadata": {},
   "source": [
    "#### Ex. 6.Write a function that receives the values of 3 dices and checks if it is possible to form 421 with these dices"
   ]
  },
  {
   "cell_type": "code",
   "execution_count": null,
   "metadata": {},
   "outputs": [],
   "source": []
  },
  {
   "cell_type": "markdown",
   "metadata": {},
   "source": [
    "#### Ex. 7. Write two functions (my_range_while(a,b) and my_range_for(a,b)) which produce a list containing all the integers in the range [a; b]. One function should use a while loop and the other use a for loop"
   ]
  },
  {
   "cell_type": "code",
   "execution_count": 70,
   "metadata": {},
   "outputs": [
    {
     "name": "stdout",
     "output_type": "stream",
     "text": [
      "[1, 0]\n"
     ]
    }
   ],
   "source": [
    "def my_range_while(a:int, b:int):\n",
    "    '''takes two intergers and produce a list of numbers within that interval'''\n",
    "    my_list = []\n",
    "    if a < b:\n",
    "        while a <= b:\n",
    "            my_list.append(a)\n",
    "            a += 1\n",
    "        return my_list\n",
    "    elif a >= b:\n",
    "        while a >= b:\n",
    "            my_list.append(a)\n",
    "            a += -1\n",
    "        return my_list   \n",
    "\n",
    "def my_range_for(a:int, b:int):\n",
    "    '''Pass arguments to my_range_while function to produce numbers within those two numbers'''\n",
    "    my_list = my_range_while(a,b)\n",
    "    print(my_list)\n",
    "    \n",
    "my_range_for(1,0)"
   ]
  },
  {
   "cell_type": "markdown",
   "metadata": {},
   "source": [
    "#### Ex. 8. Write two functions (my_range_while(a,b,step) and my_range_for(a,b,step)) which produce a list containing all the integers in the range [a; b[ separeted by step.. One function should use a while loop and the other use a for loop."
   ]
  },
  {
   "cell_type": "code",
   "execution_count": 5,
   "metadata": {},
   "outputs": [
    {
     "name": "stdout",
     "output_type": "stream",
     "text": [
      "[10, 13, 16, 19, 22, 25, 28]\n"
     ]
    }
   ],
   "source": [
    "def my_range_while2(a:int, b:int, step=1):\n",
    "    '''takes two intergers and produce a list of numbers within that interval by a defined step'''\n",
    "    my_list = []\n",
    "    if a < b:\n",
    "        while a <= b:\n",
    "            my_list.append(a)\n",
    "            a += step\n",
    "        return my_list\n",
    "    elif a >= b:\n",
    "        while a >= b:\n",
    "            my_list.append(a)\n",
    "            a += -step\n",
    "        return my_list   \n",
    "\n",
    "def my_range_for(a:int, b:int, step=1):\n",
    "    '''Pass arguments to my_range_while function to produce numbers within those two numbers'''\n",
    "    my_list = my_range_while2(a, b, step)\n",
    "    print(my_list)\n",
    "    \n",
    "my_range_for(10,29,3)"
   ]
  },
  {
   "cell_type": "markdown",
   "metadata": {},
   "source": [
    "#### Ex. 9. Write a function that produces a list containing the n first powers of 2"
   ]
  },
  {
   "cell_type": "code",
   "execution_count": 6,
   "metadata": {},
   "outputs": [
    {
     "data": {
      "text/plain": [
       "[1, 2, 4, 8, 16, 32, 64, 128, 256, 512]"
      ]
     },
     "execution_count": 6,
     "metadata": {},
     "output_type": "execute_result"
    }
   ],
   "source": [
    "def power_of_two(n:int):\n",
    "    '''produce a list of powers of 2 uptill a defined power(n) '''\n",
    "    my_list = []\n",
    "    x = 0\n",
    "    while x < n:\n",
    "        my_list.append(2**x)\n",
    "        x += 1\n",
    "    return my_list\n",
    "\n",
    "power_of_two(10)\n"
   ]
  },
  {
   "cell_type": "markdown",
   "metadata": {},
   "source": [
    "#### Ex. 10. Write a function that produces a list containing the prime numbers inferior to a given upperbound. Start by writing a function that checks whether a number is prime."
   ]
  },
  {
   "cell_type": "code",
   "execution_count": 27,
   "metadata": {},
   "outputs": [
    {
     "name": "stdout",
     "output_type": "stream",
     "text": [
      "[2, 3, 5, 7, 11, 13, 17, 19, 23, 29, 31, 37, 41, 43, 47]\n"
     ]
    }
   ],
   "source": [
    "def is_prime(n:int):\n",
    "    '''Function test if a number is prime. That is divisible by 1 and its self only '''\n",
    "    n_list = my_range_while(1,n)\n",
    "    p_list = [] # list to hold divisible numbers\n",
    "    for x in n_list:\n",
    "        if n % x == 0:\n",
    "            p_list.append(x)\n",
    "    if len(p_list) == 2:\n",
    "        return True\n",
    "    else:\n",
    "        return False\n",
    "\n",
    "def prime_numbers(n:int):\n",
    "    '''Function list all prime numbers from 1 upto the given number'''\n",
    "    n_list = my_range_while(1,n) # get numbers between 1 and n\n",
    "    p_list = [] # list to hold prime numbers\n",
    "    for x in n_list:\n",
    "        if is_prime(x)==True and x < n:\n",
    "            p_list.append(x)\n",
    "    print(p_list)\n",
    "\n",
    "prime_numbers(50)"
   ]
  },
  {
   "cell_type": "markdown",
   "metadata": {},
   "source": [
    "#### Ex. 11. Write a function that receives three numbers and returns a list composed of these three numbers in increasing order"
   ]
  },
  {
   "cell_type": "code",
   "execution_count": 43,
   "metadata": {},
   "outputs": [
    {
     "data": {
      "text/plain": [
       "[10, 10, 20]"
      ]
     },
     "execution_count": 43,
     "metadata": {},
     "output_type": "execute_result"
    }
   ],
   "source": [
    "def ascending(a:int, b:int, c:int):\n",
    "    '''sorting function'''\n",
    "    my_list = []\n",
    "    if a < b:\n",
    "        if a <= c:\n",
    "            my_list.append(a)\n",
    "            if b <= c:\n",
    "                my_list.append(b)\n",
    "                my_list.append(c)\n",
    "                return my_list\n",
    "            else:\n",
    "                my_list.append(c)\n",
    "                my_list.append(b)\n",
    "                return my_list\n",
    "        else:\n",
    "            my_list.append(c)\n",
    "            my_list.append(a)\n",
    "            my_list.append(b)\n",
    "            return my_list\n",
    "    else:\n",
    "        if a <= c:\n",
    "            my_list.append(b)\n",
    "            my_list.append(a)\n",
    "            my_list.append(c)\n",
    "            return my_list\n",
    "        else:\n",
    "            if b < c:\n",
    "                my_list.append(b)\n",
    "                my_list.append(c)\n",
    "                my_list.append(a)\n",
    "                return my_list\n",
    "            else:\n",
    "                my_list.append(c)\n",
    "                my_list.append(b)\n",
    "                my_list.append(a)\n",
    "                return my_list\n",
    "        \n",
    "ascending(20,10,10)    "
   ]
  },
  {
   "cell_type": "markdown",
   "metadata": {},
   "source": [
    "#### Ex. 12. Write a function that receives three numbers and returns a list composed of the two highest numbers (in any order)"
   ]
  },
  {
   "cell_type": "code",
   "execution_count": 48,
   "metadata": {},
   "outputs": [
    {
     "data": {
      "text/plain": [
       "[61, 150]"
      ]
     },
     "execution_count": 48,
     "metadata": {},
     "output_type": "execute_result"
    }
   ],
   "source": [
    "def high_numbers(a:int, b:int, c:int):\n",
    "    '''Function returns the two biggest numbers'''\n",
    "    my_list = ascending(a,b,c)\n",
    "    return my_list[1:]\n",
    "high_numbers(150,61,50)"
   ]
  },
  {
   "cell_type": "markdown",
   "metadata": {},
   "source": [
    "#### Ex. 13. Given a second degree equation ax2 + bx + c = 0, write a function receiving a, b and c and returning a list containing the possible solutions if any. Reminder ∆ = b2 − 4ac.\n",
    " #### - If ∆ strictly positive, there are two solutions: x1 = −b−\\sqrt{∆} and x2 = −b+2ap∆.\n",
    " #### - If ∆ is null, there is one solution −2ab.\n",
    " #### - If ∆ is strictly negative, there is no real solution (your function should then return an empty list)."
   ]
  },
  {
   "cell_type": "code",
   "execution_count": 55,
   "metadata": {},
   "outputs": [
    {
     "data": {
      "text/plain": [
       "[-2.0, -1.0]"
      ]
     },
     "execution_count": 55,
     "metadata": {},
     "output_type": "execute_result"
    }
   ],
   "source": [
    "def equation(a:int, b:int, c:int):\n",
    "    '''Function solves for the values of a quadratic equation'''\n",
    "    values = []\n",
    "    change = (b**2) - (4*a*c)\n",
    "    if change > 0:\n",
    "        x1 = (-b - (change**0.5))/2*a\n",
    "        x2 = (-b + (change**0.5))/2*a\n",
    "        values.append(x1)\n",
    "        values.append(x2)\n",
    "        return values\n",
    "    elif change.isnull():\n",
    "        x1 = -b / (2*a)\n",
    "        values.append(x1)\n",
    "    elif change < 0:\n",
    "        return values\n",
    "    \n",
    "equation(1,3,2)"
   ]
  },
  {
   "cell_type": "markdown",
   "metadata": {},
   "source": [
    "#### Ex. 14. An instant is composed of an hour, a minute and a second (ex: 5, 34, 22 = 5h34min22s). Write a funciton receiving an instant and returning a list containing the next instant (ex: [5, 34, 23])."
   ]
  },
  {
   "cell_type": "code",
   "execution_count": 63,
   "metadata": {},
   "outputs": [
    {
     "data": {
      "text/plain": [
       "(11, 59, 0)"
      ]
     },
     "execution_count": 63,
     "metadata": {},
     "output_type": "execute_result"
    }
   ],
   "source": [
    "def time_instant(h:int, m:int, s:int):\n",
    "    '''Augments the values of seconds minutes and hour sequentially by 1'''\n",
    "    if s < 59:\n",
    "        s += 1\n",
    "        return h, m, s\n",
    "    elif s == 59:\n",
    "        s = 0\n",
    "        m +=1\n",
    "        if m <= 59:\n",
    "            return h, m, s\n",
    "        elif m == 60:\n",
    "            m = 0\n",
    "            h +=1\n",
    "            if h <= 12:\n",
    "                return h, m, s\n",
    "            elif h > 12:\n",
    "                h = 0\n",
    "                return h, m, s\n",
    "        \n",
    "time_instant(11,58,59)"
   ]
  },
  {
   "cell_type": "markdown",
   "metadata": {},
   "source": [
    "#### Ex. 15. Write a function that receives the coordinates of 4 points and check whether these points form a square. Your function should receive as parameters the coordinates of the four points in the following order: top left, top right, lower left and lower right."
   ]
  },
  {
   "cell_type": "code",
   "execution_count": 68,
   "metadata": {},
   "outputs": [
    {
     "data": {
      "text/plain": [
       "False"
      ]
     },
     "execution_count": 68,
     "metadata": {},
     "output_type": "execute_result"
    }
   ],
   "source": [
    "def is_square(tl1:int,tl2:int, tr1:int,tr2:int, ll1:int,ll2:int, lr1:int, lr2:int):\n",
    "    '''Functions accepts four points and determine if those points forms a square'''\n",
    "    if (tl1-tr1)**2 == (tr2-lr2)**2 == (lr1-ll1)**2 == (ll2-tl2)**2:\n",
    "        return True\n",
    "    else:\n",
    "        return False\n",
    "is_square(0,1,1,1,0,0,2,0)"
   ]
  },
  {
   "cell_type": "code",
   "execution_count": 75,
   "metadata": {},
   "outputs": [
    {
     "data": {
      "text/plain": [
       "[[1], [1, 2], [1, 2, 3], [1, 2, 3, 4]]"
      ]
     },
     "execution_count": 75,
     "metadata": {},
     "output_type": "execute_result"
    }
   ],
   "source": [
    "def sublist(n:int):\n",
    "    my_list = []\n",
    "    my_list2 = []\n",
    "    x = 1\n",
    "    while x <= n:\n",
    "        my_list.append(x)\n",
    "        my_list2.append(my_list[:])\n",
    "        x += 1\n",
    "    return my_list2\n",
    "\n",
    "sublist(4)\n",
    "    "
   ]
  },
  {
   "cell_type": "code",
   "execution_count": null,
   "metadata": {},
   "outputs": [],
   "source": []
  }
 ],
 "metadata": {
  "kernelspec": {
   "display_name": "Python 3",
   "language": "python",
   "name": "python3"
  },
  "language_info": {
   "codemirror_mode": {
    "name": "ipython",
    "version": 3
   },
   "file_extension": ".py",
   "mimetype": "text/x-python",
   "name": "python",
   "nbconvert_exporter": "python",
   "pygments_lexer": "ipython3",
   "version": "3.8.3"
  }
 },
 "nbformat": 4,
 "nbformat_minor": 4
}
