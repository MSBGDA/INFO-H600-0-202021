{
 "cells": [
  {
   "cell_type": "markdown",
   "metadata": {},
   "source": [
    "#### Author: Kubam Ivo\n",
    "#### Date: 3/10/2020"
   ]
  },
  {
   "cell_type": "markdown",
   "metadata": {},
   "source": [
    "#### Ex. 1. What does the following program do? Explain it with simple values. Can you simplify it (replace it with an equivalent but simpler program) ?"
   ]
  },
  {
   "cell_type": "code",
   "execution_count": 5,
   "metadata": {},
   "outputs": [
    {
     "name": "stdout",
     "output_type": "stream",
     "text": [
      "4\n",
      "5\n"
     ]
    }
   ],
   "source": [
    "def f(a, b):\n",
    "    '''Takes two arguments and prints them out based on conditions'''\n",
    "    if a>0 and b>1:\n",
    "        print(a)\n",
    "    elif a>0 and b<=1:\n",
    "        print(b)\n",
    "    elif a<0 and b>1:\n",
    "        print(a+b)\n",
    "    elif a<0 and b<=1:\n",
    "        print(b) \n",
    "        \n",
    "f(-1,5); f(5,9)"
   ]
  },
  {
   "cell_type": "markdown",
   "metadata": {},
   "source": [
    "#### Ex. 2. What are the values of the variables at each instruction ?"
   ]
  },
  {
   "cell_type": "code",
   "execution_count": 15,
   "metadata": {},
   "outputs": [
    {
     "name": "stdout",
     "output_type": "stream",
     "text": [
      "test2:  True\n",
      "test3:  True\n",
      "arret:  False\n",
      "\n",
      "test2:  False\n",
      "test3:  True\n",
      "arret:  False\n"
     ]
    }
   ],
   "source": [
    "a=2; b=3; c=4\n",
    "test1 = True\n",
    "test2 = (b >= a) and (c >= b); print('test2: ',test2)\n",
    "test3 = test1 or test2; print('test3: ',test3)\n",
    "arret = test3 and (not test2); print('arret: ',arret)\n",
    "print()\n",
    "a += 1; b -= 1; c -= 2\n",
    "test1 = True\n",
    "test2 = (b >= a) and (c >= b); print('test2: ',test2)\n",
    "test3 = test1 or test2; print('test3: ',test3)\n",
    "arret = arret or test2; print('arret: ',arret)"
   ]
  },
  {
   "cell_type": "markdown",
   "metadata": {},
   "source": [
    "#### Ex. 3. Some of the following programs are not correct. For each program, indicate what it prints and eventually which instructions may cause some errors"
   ]
  },
  {
   "cell_type": "code",
   "execution_count": 16,
   "metadata": {},
   "outputs": [
    {
     "name": "stdout",
     "output_type": "stream",
     "text": [
      "5\n",
      "5\n"
     ]
    }
   ],
   "source": [
    "### 3.1\n",
    "def my_test(a):\n",
    "    print(a)\n",
    "a = 5\n",
    "my_test(a)\n",
    "print(a) # results are the same because does not change the value of a"
   ]
  },
  {
   "cell_type": "code",
   "execution_count": 18,
   "metadata": {},
   "outputs": [
    {
     "name": "stdout",
     "output_type": "stream",
     "text": [
      "6\n",
      "5\n"
     ]
    }
   ],
   "source": [
    "## 3.2 \n",
    "def my_test(a):\n",
    "    a += 1\n",
    "    print(a)\n",
    "a = 5\n",
    "my_test(a)\n",
    "print(a) # the function changes the value of a but the print function print the original value"
   ]
  },
  {
   "cell_type": "code",
   "execution_count": 19,
   "metadata": {},
   "outputs": [
    {
     "name": "stdout",
     "output_type": "stream",
     "text": [
      "5\n",
      "5\n"
     ]
    }
   ],
   "source": [
    "## 3.3 \n",
    "def my_test(b):\n",
    "    a = 6\n",
    "    print(b)\n",
    "a = 5\n",
    "my_test(a)\n",
    "print(a) # results are the same because does not change the value of a"
   ]
  },
  {
   "cell_type": "code",
   "execution_count": 21,
   "metadata": {},
   "outputs": [
    {
     "name": "stdout",
     "output_type": "stream",
     "text": [
      "5\n"
     ]
    },
    {
     "ename": "NameError",
     "evalue": "name 'd' is not defined",
     "output_type": "error",
     "traceback": [
      "\u001b[1;31m---------------------------------------------------------------------------\u001b[0m",
      "\u001b[1;31mNameError\u001b[0m                                 Traceback (most recent call last)",
      "\u001b[1;32m<ipython-input-21-76baaa1f2405>\u001b[0m in \u001b[0;36m<module>\u001b[1;34m\u001b[0m\n\u001b[0;32m      6\u001b[0m \u001b[0mmy_test\u001b[0m\u001b[1;33m(\u001b[0m\u001b[1;36m4\u001b[0m\u001b[1;33m)\u001b[0m\u001b[1;33m\u001b[0m\u001b[1;33m\u001b[0m\u001b[0m\n\u001b[0;32m      7\u001b[0m \u001b[0mprint\u001b[0m\u001b[1;33m(\u001b[0m\u001b[0ma\u001b[0m\u001b[1;33m)\u001b[0m\u001b[1;33m\u001b[0m\u001b[1;33m\u001b[0m\u001b[0m\n\u001b[1;32m----> 8\u001b[1;33m \u001b[0mprint\u001b[0m\u001b[1;33m(\u001b[0m\u001b[0md\u001b[0m\u001b[1;33m)\u001b[0m\u001b[1;31m#\u001b[0m\u001b[1;33m\u001b[0m\u001b[1;33m\u001b[0m\u001b[0m\n\u001b[0m",
      "\u001b[1;31mNameError\u001b[0m: name 'd' is not defined"
     ]
    }
   ],
   "source": [
    "## 3.4\n",
    "def my_test(a):\n",
    "    a = a + 6\n",
    "    c = a\n",
    "a = 5\n",
    "my_test(4)\n",
    "print(a) #  # the function changes the value of a but the print function print the original value\n",
    "print(c) # c is local in the function. so outputs an error "
   ]
  },
  {
   "cell_type": "code",
   "execution_count": 22,
   "metadata": {},
   "outputs": [
    {
     "name": "stdout",
     "output_type": "stream",
     "text": [
      "6\n",
      "5\n"
     ]
    }
   ],
   "source": [
    "## 3.5\n",
    "def my_test():\n",
    "    a = 6\n",
    "    print(a)\n",
    "a = 5\n",
    "my_test() # prints a static value of 6 always no matter the value of a because function takes no argument\n",
    "print(a)"
   ]
  },
  {
   "cell_type": "code",
   "execution_count": 23,
   "metadata": {},
   "outputs": [
    {
     "name": "stdout",
     "output_type": "stream",
     "text": [
      "9\n",
      "5\n"
     ]
    }
   ],
   "source": [
    "## 3.6\n",
    "def my_test(a=8):\n",
    "    print(a)\n",
    "a = 5\n",
    "my_test(9) # function takes a default value of 8 but overides this incase a an argument is passed\n",
    "print(a)"
   ]
  },
  {
   "cell_type": "markdown",
   "metadata": {},
   "source": [
    "#### Ex. 4. Write a function that checks whether an integer is a valid number for the Lotto (is between 1 and 42 included)."
   ]
  },
  {
   "cell_type": "code",
   "execution_count": 30,
   "metadata": {},
   "outputs": [
    {
     "name": "stdout",
     "output_type": "stream",
     "text": [
      "87  an invalid number\n"
     ]
    }
   ],
   "source": [
    "def lotto(a : int):\n",
    "    '''Lotto function accepts a number and check is a number between 1 and 42'''\n",
    "    lotto_list = range(1,43)\n",
    "    if a in lotto_list:\n",
    "        print(a, 'a valid number')\n",
    "    else:\n",
    "        print(a,' an invalid number')\n",
    "lotto(random.randint(1, 100))"
   ]
  },
  {
   "cell_type": "markdown",
   "metadata": {},
   "source": [
    "#### Ex. 5. Write a function that checks whether a year is leap. Leap years are the years divisible by 4 but not by 100 or the years divisible by 400."
   ]
  },
  {
   "cell_type": "code",
   "execution_count": 12,
   "metadata": {},
   "outputs": [
    {
     "name": "stdout",
     "output_type": "stream",
     "text": [
      "Leap year\n"
     ]
    }
   ],
   "source": [
    "import random\n",
    "\n",
    "def leap_year(year : int):\n",
    "    '''Check for year leap years'''\n",
    "    if (year % 4 ==0):\n",
    "        if (year % 100 == 0 or year % 400 == 0):\n",
    "            print('Not a leap year')\n",
    "        else: print('Leap year')\n",
    "    else: print('Not a leap year')  \n",
    "\n",
    "leap_year(2024)"
   ]
  },
  {
   "cell_type": "markdown",
   "metadata": {},
   "source": [
    "#### Ex. 6.Write a function that receives the values of 3 dices and checks if it is possible to form 421 with these dices"
   ]
  },
  {
   "cell_type": "code",
   "execution_count": null,
   "metadata": {},
   "outputs": [],
   "source": []
  }
 ],
 "metadata": {
  "kernelspec": {
   "display_name": "Python 3",
   "language": "python",
   "name": "python3"
  },
  "language_info": {
   "codemirror_mode": {
    "name": "ipython",
    "version": 3
   },
   "file_extension": ".py",
   "mimetype": "text/x-python",
   "name": "python",
   "nbconvert_exporter": "python",
   "pygments_lexer": "ipython3",
   "version": "3.8.3"
  }
 },
 "nbformat": 4,
 "nbformat_minor": 4
}
