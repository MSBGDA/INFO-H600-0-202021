{
 "cells": [
  {
   "cell_type": "markdown",
   "metadata": {},
   "source": [
    "# INFO-H-600-Computing foundations of data scienes\n",
    "## TP 4 - Sets, dictionnaries and files"
   ]
  },
  {
   "cell_type": "markdown",
   "metadata": {},
   "source": [
    "### Author: Kubam Ivo\n",
    "### Date: 10/18/2020"
   ]
  },
  {
   "cell_type": "markdown",
   "metadata": {},
   "source": [
    "#### Ex. 1. Write a function word_in_file(word, fname) that detects if a word given as argument is in a file which name is also provided as argument (fname). We suppose that the file contains one word per line. There is no supposition on the order of the words in the file"
   ]
  },
  {
   "cell_type": "code",
   "execution_count": 9,
   "metadata": {},
   "outputs": [
    {
     "data": {
      "text/plain": [
       "True"
      ]
     },
     "execution_count": 9,
     "metadata": {},
     "output_type": "execute_result"
    }
   ],
   "source": [
    "def word_in_file(word,fname):\n",
    "    f = open(fname)\n",
    "    for l in f.readlines():\n",
    "        if word in l:\n",
    "            f.close()\n",
    "            return True\n",
    "    f.close()\n",
    "    return False\n",
    "        \n",
    "word_in_file(\"croisiere\", \"test.txt\")"
   ]
  },
  {
   "cell_type": "markdown",
   "metadata": {},
   "source": [
    "#### Ex. 2. Write a function longest_word(fname) that finds the longest word in a file (the name fname of the file is given as argument). The result must be returned as a tuple containing the longest word and its length. As for the previous exercices, we suppose that each line containes only on word per line with no information about the order of the words"
   ]
  },
  {
   "cell_type": "code",
   "execution_count": 25,
   "metadata": {},
   "outputs": [
    {
     "name": "stdout",
     "output_type": "stream",
     "text": [
      "['zero', 'un', 'deux', 'trois', 'quatre', 'cinq']\n",
      "[4, 2, 4, 5, 6, 4]\n",
      "(6, 'quatre')\n"
     ]
    }
   ],
   "source": [
    "def longest_word(fname):\n",
    "    f = open(fname)\n",
    "    max_len = 0\n",
    "    word = []\n",
    "    length = []\n",
    "    for l in f.readlines():\n",
    "        word.append(l.replace(\"\\n\",\"\"))\n",
    "        length.append(len(l.replace(\"\\n\",\"\")))\n",
    "    for i in range(len(length)):\n",
    "        if length[i] > max_len:\n",
    "            x = length[i]\n",
    "            y = word[i]\n",
    "            max_len = length[i]\n",
    "    result = (x,y)\n",
    "    print(word);print(length)\n",
    "    print(result)\n",
    "\n",
    "longest_word(\"test2.txt\")"
   ]
  },
  {
   "cell_type": "markdown",
   "metadata": {},
   "source": [
    "#### Ex. 3. Write a function that return a dictionnary composed of the number of occurencts of each word of 2 letters (AA, AC, AG, . . . ) contained in a sequence of nucleotide."
   ]
  },
  {
   "cell_type": "code",
   "execution_count": 38,
   "metadata": {},
   "outputs": [
    {
     "name": "stdout",
     "output_type": "stream",
     "text": [
      "{'GG': 1, 'GC': 7, 'GA': 1, 'GT': 1, 'CG': 1, 'CC': 3, 'CA': 1, 'CT': 8, 'AG': 7, 'AC': 1, 'AA': 1, 'AT': 2, 'TG': 2, 'TC': 2, 'TA': 7, 'TT': 1}\n"
     ]
    }
   ],
   "source": [
    "def occurence_2_letters(word):\n",
    "    word1 = set(word)\n",
    "    unique_let = word1\n",
    "    pair_let = []\n",
    "    pair_dict = {}\n",
    "    for let1 in unique_let:\n",
    "        for let2 in unique_let:\n",
    "            pair_let.append(let1+let2)\n",
    "    for pair in pair_let:\n",
    "        pair_count = word.count(pair)\n",
    "        pair = pair\n",
    "        pair_dict[pair] = pair_count\n",
    "    print(pair_dict)\n",
    "        \n",
    "   \n",
    "        \n",
    "        \n",
    "    \n",
    "occurence_2_letters(\"ACCTAGCCATGTAGAATCGCCTAGGCTTTAGCTAGCTCTAGCTAGCTG\")"
   ]
  },
  {
   "cell_type": "code",
   "execution_count": null,
   "metadata": {},
   "outputs": [],
   "source": []
  }
 ],
 "metadata": {
  "kernelspec": {
   "display_name": "Python 3",
   "language": "python",
   "name": "python3"
  },
  "language_info": {
   "codemirror_mode": {
    "name": "ipython",
    "version": 3
   },
   "file_extension": ".py",
   "mimetype": "text/x-python",
   "name": "python",
   "nbconvert_exporter": "python",
   "pygments_lexer": "ipython3",
   "version": "3.8.3"
  }
 },
 "nbformat": 4,
 "nbformat_minor": 4
}
