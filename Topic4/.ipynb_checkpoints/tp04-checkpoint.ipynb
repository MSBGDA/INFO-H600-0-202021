{
 "cells": [
  {
   "cell_type": "markdown",
   "metadata": {},
   "source": [
    "# INFO-H-600-Computing foundations of data scienes\n",
    "## TP 4 - Sets, dictionnaries and files"
   ]
  },
  {
   "cell_type": "markdown",
   "metadata": {},
   "source": [
    "### Author: Kubam Ivo\n",
    "### Date: 10/18/2020"
   ]
  },
  {
   "cell_type": "markdown",
   "metadata": {},
   "source": [
    "#### Ex. 1. Write a function word_in_file(word, fname) that detects if a word given as argument is in a file which name is also provided as argument (fname). We suppose that the file contains one word per line. There is no supposition on the order of the words in the file"
   ]
  },
  {
   "cell_type": "code",
   "execution_count": 9,
   "metadata": {},
   "outputs": [
    {
     "data": {
      "text/plain": [
       "True"
      ]
     },
     "execution_count": 9,
     "metadata": {},
     "output_type": "execute_result"
    }
   ],
   "source": [
    "def word_in_file(word,fname):\n",
    "    f = open(fname)\n",
    "    for l in f.readlines():\n",
    "        if word in l:\n",
    "            f.close()\n",
    "            return True\n",
    "    f.close()\n",
    "    return False\n",
    "        \n",
    "word_in_file(\"croisiere\", \"test.txt\")"
   ]
  },
  {
   "cell_type": "markdown",
   "metadata": {},
   "source": [
    "#### Ex. 2. Write a function longest_word(fname) that finds the longest word in a file (the name fname of the file is given as argument). The result must be returned as a tuple containing the longest word and its length. As for the previous exercices, we suppose that each line containes only on word per line with no information about the order of the words"
   ]
  },
  {
   "cell_type": "code",
   "execution_count": 25,
   "metadata": {},
   "outputs": [
    {
     "name": "stdout",
     "output_type": "stream",
     "text": [
      "['zero', 'un', 'deux', 'trois', 'quatre', 'cinq']\n",
      "[4, 2, 4, 5, 6, 4]\n",
      "(6, 'quatre')\n"
     ]
    }
   ],
   "source": [
    "def longest_word(fname):\n",
    "    f = open(fname)\n",
    "    max_len = 0\n",
    "    word = []\n",
    "    length = []\n",
    "    for l in f.readlines():\n",
    "        word.append(l.replace(\"\\n\",\"\"))\n",
    "        length.append(len(l.replace(\"\\n\",\"\")))\n",
    "    for i in range(len(length)):\n",
    "        if length[i] > max_len:\n",
    "            x = length[i]\n",
    "            y = word[i]\n",
    "            max_len = length[i]\n",
    "    result = (x,y)\n",
    "    print(word);print(length)\n",
    "    print(result)\n",
    "\n",
    "longest_word(\"test2.txt\")"
   ]
  },
  {
   "cell_type": "markdown",
   "metadata": {},
   "source": [
    "#### Ex. 3. Write a function that return a dictionnary composed of the number of occurencts of each word of 2 letters (AA, AC, AG, . . . ) contained in a sequence of nucleotide."
   ]
  },
  {
   "cell_type": "code",
   "execution_count": 7,
   "metadata": {},
   "outputs": [
    {
     "name": "stdout",
     "output_type": "stream",
     "text": [
      "{'AA': 1, 'AC': 1, 'AG': 7, 'AT': 2, 'CA': 1, 'CC': 3, 'CG': 1, 'CT': 8, 'GA': 1, 'GC': 7, 'GG': 1, 'GT': 1, 'TA': 7, 'TC': 2, 'TG': 2, 'TT': 1}\n"
     ]
    }
   ],
   "source": [
    "def sort(ls):\n",
    "    ls_sort = []\n",
    "    \n",
    "    for elt in ls:\n",
    "        pos = len(ls)-1\n",
    "        for i in range(len(ls)):\n",
    "            if elt < ls[i]:\n",
    "                pos -= 1\n",
    "        ls_sort.insert(pos, elt)\n",
    "    return ls_sort    \n",
    "        \n",
    "def occurence_2_letters(word):\n",
    "    word1 = set(word)\n",
    "    unique_let = word1\n",
    "    unique_list = []\n",
    "    for let in unique_let:\n",
    "        unique_list.append(let)\n",
    "    unique_sort = sort(unique_list)\n",
    "    pair_let = []\n",
    "    pair_dict = {}\n",
    "    for let1 in unique_sort:\n",
    "        for let2 in unique_sort:\n",
    "            pair_let.append(let1+let2)\n",
    "    for pair in pair_let:\n",
    "        pair_count = word.count(pair)\n",
    "        pair = pair\n",
    "        pair_dict[pair] = pair_count\n",
    "    return pair_dict\n",
    "        \n",
    "   \n",
    "\n",
    "            \n",
    "        \n",
    "    \n",
    "print(occurence_2_letters(\"ACCTAGCCATGTAGAATCGCCTAGGCTTTAGCTAGCTCTAGCTAGCTG\"))"
   ]
  },
  {
   "cell_type": "markdown",
   "metadata": {},
   "source": [
    "#### Ex. 4. Write a function that prints the dictionnary in the following manner:\n",
    "#### Key : GT - Value : 1\n",
    "#### Key : CT - Value : 8"
   ]
  },
  {
   "cell_type": "code",
   "execution_count": 12,
   "metadata": {},
   "outputs": [
    {
     "name": "stdout",
     "output_type": "stream",
     "text": [
      "{'AA': 1, 'AC': 1, 'AG': 7, 'AT': 2, 'CA': 1, 'CC': 3, 'CG': 1, 'CT': 8, 'GA': 1, 'GC': 7, 'GG': 1, 'GT': 1, 'TA': 7, 'TC': 2, 'TG': 2, 'TT': 1, ('AA', 1): dict_items([]), ('AC', 1): dict_items([]), ('AG', 7): dict_items([]), ('AT', 2): dict_items([]), ('CA', 1): dict_items([]), ('CC', 3): dict_items([]), ('CG', 1): dict_items([]), ('CT', 8): dict_items([]), ('GA', 1): dict_items([]), ('GC', 7): dict_items([]), ('GG', 1): dict_items([]), ('GT', 1): dict_items([]), ('TA', 7): dict_items([]), ('TC', 2): dict_items([]), ('TG', 2): dict_items([]), ('TT', 1): dict_items([])}\n"
     ]
    },
    {
     "data": {
      "text/plain": [
       "['A', 'C', 'G', 'T']"
      ]
     },
     "execution_count": 12,
     "metadata": {},
     "output_type": "execute_result"
    }
   ],
   "source": [
    "# imcomplete\n",
    "def dict_print(dict_input):\n",
    "    new_dict = {}\n",
    "    dict_items = list(dict_input.items())\n",
    "    for item in dict_items:\n",
    "        x, y = item\n",
    "        new_key = x + '-' + str(y)\n",
    "        new_dict[new_key] = y\n",
    "        dict_input[item] = new_dict.items()\n",
    "        del new_dict[new_key]\n",
    "    print(dict_input)\n",
    "\n",
    "dict_print({'AA': 1, 'AC': 1, 'AG': 7, 'AT': 2, 'CA': 1, 'CC': 3, 'CG': 1, 'CT': 8, 'GA': 1, 'GC': 7, 'GG': 1, 'GT': 1, 'TA': 7, 'TC': 2, 'TG': 2, 'TT': 1})\n",
    "        \n",
    "   \n",
    "        \n",
    "        \n",
    "sort(['A', 'G', 'T', 'C'])"
   ]
  },
  {
   "cell_type": "code",
   "execution_count": null,
   "metadata": {},
   "outputs": [],
   "source": []
  }
 ],
 "metadata": {
  "kernelspec": {
   "display_name": "Python 3",
   "language": "python",
   "name": "python3"
  },
  "language_info": {
   "codemirror_mode": {
    "name": "ipython",
    "version": 3
   },
   "file_extension": ".py",
   "mimetype": "text/x-python",
   "name": "python",
   "nbconvert_exporter": "python",
   "pygments_lexer": "ipython3",
   "version": "3.8.3"
  }
 },
 "nbformat": 4,
 "nbformat_minor": 4
}
